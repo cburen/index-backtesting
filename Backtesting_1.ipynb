{
 "cells": [
  {
   "cell_type": "markdown",
   "id": "5760d3df",
   "metadata": {},
   "source": [
    "# Calculating Weights and Backtesting\n",
    "Weights are calculated as of today 12/9/2021 and are non adjusting; weights do not change during backtesting."
   ]
  },
  {
   "cell_type": "code",
   "execution_count": 162,
   "id": "70350cd4-e093-4856-9035-08b9f9bb31bf",
   "metadata": {},
   "outputs": [],
   "source": [
    "import pandas_datareader.data as reader\n",
    "import datetime as dt\n",
    "import matplotlib.pyplot as plt\n",
    "import pandas as pd\n",
    "import numpy as np\n",
    "\n",
    "end = dt.datetime.now()\n",
    "start = dt.date(2021, 9, 27)\n",
    "### ^^ historical data only goes back 9/27/21"
   ]
  },
  {
   "cell_type": "markdown",
   "id": "bd4fb437",
   "metadata": {},
   "source": [
    "## Filling different tiers of the index with constiuents:\n",
    "See https://rutgers-blockchain-developers.gitbook.io/welcome/projects/rutgers-cross-chain-cryptocurrency-index for more information on the index, tiers, and methodology."
   ]
  },
  {
   "cell_type": "code",
   "execution_count": 163,
   "id": "918656ff",
   "metadata": {},
   "outputs": [],
   "source": [
    "tier_1 = ['DOT1-USD',\n",
    "          'ATOM1-USD',\n",
    "          'ONE2-USD',\n",
    "          'KSM-USD',\n",
    "          'CKB-USD',\n",
    "          'RUNE-USD',\n",
    "          'MATIC-USD']\n",
    "\n",
    "tier_2 = ['LUNA1-USD',\n",
    "          'SOL1-USD',\n",
    "          'ADA-USD',\n",
    "          'AVAX-USD',\n",
    "          'TRX-USD',\n",
    "          'FTM-USD',\n",
    "          'EGLD-USD',\n",
    "          'ICP1-USD',\n",
    "          'VET-USD',\n",
    "          'ALGO-USD',\n",
    "          'ROSE-USD',\n",
    "          'EOS-USD',\n",
    "          'QTUM-USD',\n",
    "          'XTZ-USD',\n",
    "          'HBAR-USD',\n",
    "          'ONT-USD',\n",
    "          'ZEN-USD',\n",
    "          'STX1-USD',\n",
    "          'CELO-USD',]\n",
    "\n",
    "tier_3 = ['BTC-USD',\n",
    "          'ETH-USD']\n",
    "\n",
    "df1 = reader.get_data_yahoo(tier_1, start, end)['Adj Close']\n",
    "\n",
    "df2 = reader.get_data_yahoo(tier_2, start, end)['Adj Close']\n",
    "\n",
    "df3 = reader.get_data_yahoo(tier_3, start, end)['Adj Close']"
   ]
  },
  {
   "cell_type": "markdown",
   "id": "14db43c1",
   "metadata": {},
   "source": [
    "## Calculating the list of market caps of each tier"
   ]
  },
  {
   "cell_type": "code",
   "execution_count": 164,
   "id": "710289aa",
   "metadata": {},
   "outputs": [],
   "source": [
    "### Tier 1\n",
    "tier1_mc = []\n",
    "for j in range(len(tier_1)):\n",
    "    tier1_mc.append(reader.get_quote_yahoo(tier_1)['marketCap'][j])"
   ]
  },
  {
   "cell_type": "code",
   "execution_count": 165,
   "id": "507667b1",
   "metadata": {},
   "outputs": [],
   "source": [
    "### Tier 2\n",
    "tier2_mc = []\n",
    "for j in range(len(tier_2)):\n",
    "    tier2_mc.append(reader.get_quote_yahoo(tier_2)['marketCap'][j])"
   ]
  },
  {
   "cell_type": "code",
   "execution_count": 166,
   "id": "c557c377",
   "metadata": {},
   "outputs": [],
   "source": [
    "### Tier 3\n",
    "tier3_mc = []\n",
    "for j in range(len(tier_3)):\n",
    "    tier3_mc.append(reader.get_quote_yahoo(tier_3)['marketCap'][j])"
   ]
  },
  {
   "cell_type": "markdown",
   "id": "81ae5efd",
   "metadata": {},
   "source": [
    "## Weightings of Consituents within each Tier, Capped"
   ]
  },
  {
   "cell_type": "code",
   "execution_count": 167,
   "id": "42f8e2c9",
   "metadata": {},
   "outputs": [],
   "source": [
    "def reweighting_function(weight_list, cap, index_list_of_nonzeroes_undercap):\n",
    "    \"\"\"\n",
    "    reweighting_function outputs a list of weights that all fit the max cap\n",
    "    :param weight_list: a list of weights, most likely not fitting the cap\n",
    "    :param cap: max weight of any 1 constituent\n",
    "    :param index_list_of_nonzeroes_undercap: ordered list of the indexes of non-zero weights\n",
    "    :return: a list of weights that fit the cap\n",
    "    \"\"\"\n",
    "\n",
    "    ### Obtaining the excess value, amount of weight thats over the cap, to be distributed to other constituents\n",
    "    temp_excess_val = 0\n",
    "    for i in range(len(weight_list)):\n",
    "        if(weight_list[i] > cap):\n",
    "            temp_excess_val += weight_list[i] - cap\n",
    "            weight_list[i] = cap\n",
    "\n",
    "    ### Obtaining the cumulative value of weights between 0 and the cap\n",
    "    temp_mc = 0\n",
    "    for i in index_list_of_nonzeroes_undercap:\n",
    "        temp_mc += weight_list[i]\n",
    "\n",
    "    ### Allocating the excess value over the cap to constituent weights between 0 and the cap\n",
    "    for i in index_list_of_nonzeroes_undercap:\n",
    "        mc_adj_extra_weight = (weight_list[i] / temp_mc) * temp_excess_val\n",
    "        weight_list[i] = weight_list[i] + mc_adj_extra_weight\n",
    "        \n",
    "    ### Get the indexes of nonzero below-cap weights\n",
    "    non0_undercap_list_index = []\n",
    "    for i in range(len(weight_list)):\n",
    "            if(cap > weight_list[i] > 0):\n",
    "                non0_undercap_list_index.append(i)\n",
    "    \n",
    "    ### Recursive part keeps running function until weights all fit\n",
    "    for i in range(len(weight_list)):\n",
    "        if(weight_list[i] > cap):\n",
    "            reweighting_function(weight_list, cap, non0_undercap_list_index)\n",
    "            break\n",
    "\n",
    "    return(weight_list)"
   ]
  },
  {
   "cell_type": "code",
   "execution_count": 168,
   "id": "fc39e1ac",
   "metadata": {},
   "outputs": [],
   "source": [
    "def weighting_function(marketcaps, cap):  \n",
    "    \"\"\"\n",
    "    weighting_function outputs a list of appropriate weights accounting for caps\n",
    "    :param marketcaps: a list of marketcaps\n",
    "    :param cap: max weight of any 1 constituent\n",
    "    :return: a list of weights\n",
    "    \"\"\"\n",
    "    total_marketcap = 0\n",
    "    \n",
    "    ### Add all market caps\n",
    "    for i in range(len(marketcaps)):\n",
    "        total_marketcap += marketcaps[i]\n",
    "    \n",
    "    ### If marketcaps list is all 0s, return all those 0s as weights\n",
    "    if(total_marketcap == 0):\n",
    "        return(marketcaps)\n",
    "    \n",
    "    ### First iteration of weighting\n",
    "    weight_list = []\n",
    "    for i in range(len(marketcaps)):\n",
    "        temp_weight = marketcaps[i] / total_marketcap\n",
    "        weight_list.append(temp_weight)\n",
    "\n",
    "    ### Get the indexes of nonzero weights\n",
    "    non0_list_index = []\n",
    "    for i in range(len(weight_list)):\n",
    "            if(weight_list[i] > 0):\n",
    "                non0_list_index.append(i)\n",
    "    \n",
    "    ### Get the indexes of nonzero below-cap weights\n",
    "    non0_undercap_list_index = []\n",
    "    for i in range(len(weight_list)):\n",
    "            if(cap > weight_list[i] > 0):\n",
    "                non0_undercap_list_index.append(i)\n",
    "    \n",
    "    ### If number of nonzero marketcaps (or weights) is too small to fit under cap, assigns most equal weights\n",
    "    if(1 / np.count_nonzero(weight_list) > cap):\n",
    "        for i in range(len(weight_list)):\n",
    "            if(i in non0_list_index):\n",
    "                weight_list[i] = 1 / np.count_nonzero(weight_list)\n",
    "            else:\n",
    "                weight_list[i] = 0\n",
    "        return(weight_list)\n",
    "    ### Run recursive rewighting function\n",
    "    weight_list = reweighting_function(weight_list, cap, non0_undercap_list_index)\n",
    "    \n",
    "    return(weight_list)\n",
    "    \n",
    "    "
   ]
  },
  {
   "cell_type": "code",
   "execution_count": 169,
   "id": "184e98fc",
   "metadata": {
    "scrolled": true
   },
   "outputs": [
    {
     "name": "stdout",
     "output_type": "stream",
     "text": [
      "Tier1 Weights (within tier): \n",
      "DOT1-USD: 20.0 %\n",
      "ATOM1-USD: 20.0 %\n",
      "ONE2-USD: 12.072097109430477 %\n",
      "KSM-USD: 14.390324054644044 %\n",
      "CKB-USD: 3.575633073362146 %\n",
      "RUNE-USD: 9.961945762563335 %\n",
      "MATIC-USD: 20.0 %\n",
      "\n",
      "Tier2 Weights (within tier): \n",
      "LUNA1-USD: 15.0 %\n",
      "SOL1-USD: 15.0 %\n",
      "ADA-USD: 15.0 %\n",
      "AVAX-USD: 14.750841766467945 %\n",
      "TRX-USD: 6.59091300409787 %\n",
      "FTM-USD: 2.482766556360576 %\n",
      "EGLD-USD: 3.5472666024150596 %\n",
      "ICP1-USD: 3.6423454068624053 %\n",
      "VET-USD: 3.7830402547326667 %\n",
      "ALGO-USD: 6.490603225846968 %\n",
      "ROSE-USD: 0.777928124111426 %\n",
      "EOS-USD: 2.4128670833537726 %\n",
      "QTUM-USD: 0.6747361866468374 %\n",
      "XTZ-USD: 2.9767529819427443 %\n",
      "HBAR-USD: 3.0807002388430162 %\n",
      "ONT-USD: 0.43829377970257216 %\n",
      "ZEN-USD: 0.5364632503697842 %\n",
      "STX1-USD: 1.8522782597457588 %\n",
      "CELO-USD: 0.9622032785005878 %\n",
      "\n",
      "Tier3 Weights (within tier): \n",
      "BTC-USD: 50.0 %\n",
      "ETH-USD: 50.0 %\n"
     ]
    }
   ],
   "source": [
    "### weights are in order of tier_1, _2, _3\n",
    "df1_weights = weighting_function(tier1_mc, 0.2)\n",
    "df2_weights = weighting_function(tier2_mc, 0.15)\n",
    "df3_weights = weighting_function(tier3_mc, 0)\n",
    "\n",
    "\n",
    "\n",
    "print(\"Tier1 Weights (within tier): \")\n",
    "for j in range(len(tier_1)):\n",
    "    print(tier_1[j] + \": \" + str(df1_weights[j] * 100) + ' %')\n",
    "\n",
    "    \n",
    "print('\\n' + \"Tier2 Weights (within tier): \")\n",
    "for j in range(len(tier_2)):\n",
    "    print(tier_2[j] + \": \" + str(df2_weights[j] * 100) + ' %')\n",
    "\n",
    "    \n",
    "print('\\n' + \"Tier3 Weights (within tier): \")\n",
    "for j in range(len(tier_3)):\n",
    "    print(tier_3[j] + \": \" + str(df3_weights[j] * 100) + ' %')\n",
    "\n",
    "\n",
    "    "
   ]
  },
  {
   "cell_type": "markdown",
   "id": "6f11571a",
   "metadata": {},
   "source": [
    "## Function to backtest each Tier\n",
    "This function uses a static market cap on historical data; NOT a changing one over time; this current function also does not cap weights, TBD."
   ]
  },
  {
   "cell_type": "code",
   "execution_count": 170,
   "id": "93b732a0",
   "metadata": {},
   "outputs": [],
   "source": [
    "### Market-Cap Weighted\n",
    "\n",
    "def backtesting_data(df, ticker_list, weight_list):  \n",
    "    \"\"\"\n",
    "    backtesting_data calculates value of a portfolio\n",
    "\n",
    "    :param df: dataframe of historical data\n",
    "    :param ticker_list: list of tickers, same number of columns as df\n",
    "    :param weight_list: list of weights, same number of columns as df\n",
    "    :return: value of portfolio\n",
    "    \"\"\"\n",
    "    value = 0\n",
    "    for i in range(len(ticker_list)):\n",
    "        value += df[ticker_list[i]] * weight_list[i]\n",
    "        \n",
    "    return(value)"
   ]
  },
  {
   "cell_type": "markdown",
   "id": "69d12e84",
   "metadata": {},
   "source": [
    "## Creating empty dataframe and putting three tier's values into it"
   ]
  },
  {
   "cell_type": "code",
   "execution_count": 171,
   "id": "2a27c911",
   "metadata": {},
   "outputs": [
    {
     "name": "stdout",
     "output_type": "stream",
     "text": [
      "            Tier1 Value  Tier2 Value   Tier3 Value\n",
      "Date                                              \n",
      "2021-09-27    59.381462    46.194423  22584.934692\n",
      "2021-09-28    58.698434    43.544166  21920.919800\n",
      "2021-09-29    59.641456    45.147511  22208.753296\n",
      "2021-09-30    61.562616    47.172457  23396.286743\n",
      "2021-10-01    65.199083    51.731280  25712.228760\n",
      "...                 ...          ...           ...\n",
      "2021-12-10    51.508279    57.369004  25575.900391\n",
      "2021-12-11    54.169252    58.718118  26723.480103\n",
      "2021-12-12    55.790365    59.760759  27116.394531\n",
      "2021-12-13    49.881266    53.055674  25260.853638\n",
      "2021-12-14    50.087479    53.387591  25460.208374\n",
      "\n",
      "[79 rows x 3 columns]\n"
     ]
    }
   ],
   "source": [
    "df_final = pd.DataFrame()\n",
    "df_final['Tier1 Value'] = backtesting_data(df1, tier_1, df1_weights)\n",
    "df_final['Tier2 Value'] = backtesting_data(df2, tier_2, df2_weights)\n",
    "df_final['Tier3 Value'] = backtesting_data(df3, tier_3, df3_weights)\n",
    "print(df_final)"
   ]
  },
  {
   "cell_type": "markdown",
   "id": "f29490cd",
   "metadata": {},
   "source": [
    "## Set the weights of each tier, calculate value of index daily in dataframe df_final under Index Value"
   ]
  },
  {
   "cell_type": "code",
   "execution_count": 172,
   "id": "1c540fcd",
   "metadata": {
    "jupyter": {
     "outputs_hidden": true
    },
    "tags": []
   },
   "outputs": [
    {
     "name": "stdout",
     "output_type": "stream",
     "text": [
      "            Tier1 Value  Tier2 Value   Tier3 Value  Index Value\n",
      "Date                                                           \n",
      "2021-09-27    59.381462    46.194423  22584.934692  2306.661969\n",
      "2021-09-28    58.698434    43.544166  21920.919800  2238.858863\n",
      "2021-09-29    59.641456    45.147511  22208.753296  2268.755062\n",
      "2021-09-30    61.562616    47.172457  23396.286743  2389.278965\n",
      "2021-10-01    65.199083    51.731280  25712.228760  2624.514929\n",
      "...                 ...          ...           ...          ...\n",
      "2021-12-10    51.508279    57.369004  25575.900391  2606.291780\n",
      "2021-12-11    54.169252    58.718118  26723.480103  2722.919883\n",
      "2021-12-12    55.790365    59.760759  27116.394531  2763.438939\n",
      "2021-12-13    49.881266    53.055674  25260.853638  2572.248266\n",
      "2021-12-14    50.087479    53.387591  25460.208374  2592.419613\n",
      "\n",
      "[79 rows x 4 columns]\n"
     ]
    }
   ],
   "source": [
    "### Set the weights of each tier\n",
    "t1_weight = 0.5\n",
    "t2_weight = 0.4\n",
    "t3_weight = 0.1\n",
    "\n",
    "df_final['Index Value'] = df_final['Tier1 Value'] * t1_weight + df_final['Tier2 Value'] * t2_weight + df_final['Tier3 Value'] * t3_weight\n",
    "print(df_final)"
   ]
  },
  {
   "cell_type": "markdown",
   "id": "b6c65b4c",
   "metadata": {},
   "source": [
    "## Plotting our index against benchmark CMC200"
   ]
  },
  {
   "cell_type": "code",
   "execution_count": 173,
   "id": "d2852f5a-ea99-4e40-985b-451b821ab56b",
   "metadata": {},
   "outputs": [
    {
     "data": {
      "text/plain": [
       "[<matplotlib.lines.Line2D at 0x24b0db632e0>]"
      ]
     },
     "execution_count": 173,
     "metadata": {},
     "output_type": "execute_result"
    },
    {
     "data": {
      "image/png": "[encoded data removed]",
      "text/plain": [
       "<Figure size 432x288 with 1 Axes>"
      ]
     },
     "metadata": {
      "needs_background": "light"
     },
     "output_type": "display_data"
    }
   ],
   "source": [
    "#fig, axs = plt.subplots(2, 2, figsize = (14,8), gridspec_kw = {'hspace': 0.2, 'wspace': 0.1})\n",
    "df_benchmark = pd.DataFrame()\n",
    "df_benchmark['^CMC200'] = reader.get_data_yahoo('^CMC200', start, end)['Adj Close']\n",
    "final_plot = df_final['Index Value'].plot()\n",
    "\n",
    "plt.plot(df_final['Index Value'], label = 'Index', c='y')\n",
    "plt.plot(df_benchmark['^CMC200'], label = 'Benchmark', c='b')\n"
   ]
  },
  {
   "cell_type": "markdown",
   "id": "aac49679",
   "metadata": {},
   "source": [
    "# Plotting Cumulative Returns Against Benchmark"
   ]
  },
  {
   "cell_type": "code",
   "execution_count": 174,
   "id": "15a838d4",
   "metadata": {},
   "outputs": [],
   "source": [
    "df_temp = pd.DataFrame(columns=['Returns'])\n",
    "df_final = df_final.join(df_temp, how=\"outer\")\n",
    "\n",
    "df_temp1 = pd.DataFrame(columns=['Returns'])\n",
    "df_benchmark = df_benchmark.join(df_temp1, how=\"outer\")"
   ]
  },
  {
   "cell_type": "markdown",
   "id": "09e15825",
   "metadata": {},
   "source": [
    "### Calculate Daily Returns"
   ]
  },
  {
   "cell_type": "code",
   "execution_count": 175,
   "id": "b60fb626",
   "metadata": {},
   "outputs": [
    {
     "name": "stderr",
     "output_type": "stream",
     "text": [
      "<ipython-input-175-a964f8243d18>:3: SettingWithCopyWarning: \n",
      "A value is trying to be set on a copy of a slice from a DataFrame\n",
      "\n",
      "See the caveats in the documentation: https://pandas.pydata.org/pandas-docs/stable/user_guide/indexing.html#returning-a-view-versus-a-copy\n",
      "  df_final['Returns'][q] = (df_final['Index Value'][q] - df_final['Index Value'][q - 1]) / df_final['Index Value'][q - 1]\n",
      "<ipython-input-175-a964f8243d18>:6: SettingWithCopyWarning: \n",
      "A value is trying to be set on a copy of a slice from a DataFrame\n",
      "\n",
      "See the caveats in the documentation: https://pandas.pydata.org/pandas-docs/stable/user_guide/indexing.html#returning-a-view-versus-a-copy\n",
      "  df_benchmark['Returns'][q] = (df_benchmark['^CMC200'][q] - df_benchmark['^CMC200'][q - 1]) / df_benchmark['^CMC200'][q - 1]\n"
     ]
    }
   ],
   "source": [
    "for q in range(1, len(df_final)):\n",
    "    ### (today - yesterday) / yesterday\n",
    "    df_final['Returns'][q] = (df_final['Index Value'][q] - df_final['Index Value'][q - 1]) / df_final['Index Value'][q - 1]\n",
    "    \n",
    "for q in range(1, len(df_benchmark)):\n",
    "    df_benchmark['Returns'][q] = (df_benchmark['^CMC200'][q] - df_benchmark['^CMC200'][q - 1]) / df_benchmark['^CMC200'][q - 1]\n"
   ]
  },
  {
   "cell_type": "code",
   "execution_count": 176,
   "id": "d7f91fe5",
   "metadata": {},
   "outputs": [
    {
     "name": "stderr",
     "output_type": "stream",
     "text": [
      "<ipython-input-176-8014f73575e7>:8: SettingWithCopyWarning: \n",
      "A value is trying to be set on a copy of a slice from a DataFrame\n",
      "\n",
      "See the caveats in the documentation: https://pandas.pydata.org/pandas-docs/stable/user_guide/indexing.html#returning-a-view-versus-a-copy\n",
      "  df_final['Real Returns'][0] = 100\n",
      "<ipython-input-176-8014f73575e7>:10: SettingWithCopyWarning: \n",
      "A value is trying to be set on a copy of a slice from a DataFrame\n",
      "\n",
      "See the caveats in the documentation: https://pandas.pydata.org/pandas-docs/stable/user_guide/indexing.html#returning-a-view-versus-a-copy\n",
      "  df_final['Real Returns'][i] = df_final['Real Returns'][i - 1] * (1 + df_final['Returns'][i])\n",
      "<ipython-input-176-8014f73575e7>:12: SettingWithCopyWarning: \n",
      "A value is trying to be set on a copy of a slice from a DataFrame\n",
      "\n",
      "See the caveats in the documentation: https://pandas.pydata.org/pandas-docs/stable/user_guide/indexing.html#returning-a-view-versus-a-copy\n",
      "  df_benchmark['Real Returns'][0] = 100\n",
      "<ipython-input-176-8014f73575e7>:14: SettingWithCopyWarning: \n",
      "A value is trying to be set on a copy of a slice from a DataFrame\n",
      "\n",
      "See the caveats in the documentation: https://pandas.pydata.org/pandas-docs/stable/user_guide/indexing.html#returning-a-view-versus-a-copy\n",
      "  df_benchmark['Real Returns'][i] = df_benchmark['Real Returns'][i - 1] * (1 + df_benchmark['Returns'][i])\n"
     ]
    }
   ],
   "source": [
    "df_temp = pd.DataFrame(columns=['Real Returns'])\n",
    "df_final = df_final.join(df_temp, how=\"outer\")\n",
    "\n",
    "df_temp = pd.DataFrame(columns=['Real Returns'])\n",
    "df_benchmark = df_benchmark.join(df_temp, how=\"outer\")\n",
    "\n",
    "### set initial value at inception to 100\n",
    "df_final['Real Returns'][0] = 100\n",
    "for i in range(1, len(df_final)):\n",
    "    df_final['Real Returns'][i] = df_final['Real Returns'][i - 1] * (1 + df_final['Returns'][i])\n",
    "\n",
    "df_benchmark['Real Returns'][0] = 100\n",
    "for i in range(1, len(df_benchmark)):\n",
    "    df_benchmark['Real Returns'][i] = df_benchmark['Real Returns'][i - 1] * (1 + df_benchmark['Returns'][i])"
   ]
  },
  {
   "cell_type": "code",
   "execution_count": 177,
   "id": "8ec7fca7",
   "metadata": {},
   "outputs": [
    {
     "data": {
      "text/plain": [
       "[<matplotlib.lines.Line2D at 0x24b0d375640>]"
      ]
     },
     "execution_count": 177,
     "metadata": {},
     "output_type": "execute_result"
    },
    {
     "data": {
      "image/png": "[encoded data removed]",
      "text/plain": [
       "<Figure size 432x288 with 1 Axes>"
      ]
     },
     "metadata": {
      "needs_background": "light"
     },
     "output_type": "display_data"
    }
   ],
   "source": [
    "final_plot = df_final['Real Returns'].plot()\n",
    "\n",
    "plt.plot(df_final['Real Returns'], label = 'Index', c='y')\n",
    "plt.plot(df_benchmark['Real Returns'], label = 'Benchmark', c='b')"
   ]
  },
  {
   "cell_type": "code",
   "execution_count": null,
   "id": "bf73557e",
   "metadata": {},
   "outputs": [],
   "source": []
  }
 ],
 "metadata": {
  "kernelspec": {
   "display_name": "Python 3",
   "language": "python",
   "name": "python3"
  },
  "language_info": {
   "codemirror_mode": {
    "name": "ipython",
    "version": 3
   },
   "file_extension": ".py",
   "mimetype": "text/x-python",
   "name": "python",
   "nbconvert_exporter": "python",
   "pygments_lexer": "ipython3",
   "version": "3.8.8"
  }
 },
 "nbformat": 4,
 "nbformat_minor": 5
}
