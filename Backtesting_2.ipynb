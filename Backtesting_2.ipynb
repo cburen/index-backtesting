{
 "cells": [
  {
   "cell_type": "markdown",
   "id": "7ece68e9",
   "metadata": {},
   "source": [
    "# Calculating Weights and Backtesting #2\n",
    "Weights are calculated each quarterly rebalancing date going back to 12/31/2016. Backtesting shifts the weights around coins each rebalancing date, since not all coins were launched in 2016. Extra weight was distributed to other coins not meeting the cap based on their market caps."
   ]
  },
  {
   "cell_type": "markdown",
   "id": "7c40a947",
   "metadata": {},
   "source": [
    "### NOTE: as of the upload of this (1/4/2022) the yahoo finance api is broken on several coins. Will reupload once it is fixed\n",
    "Bugs: not reading ICP and not having historical BTC & ETH data before 2017-11-09. Once these are fixed, code will run successfully."
   ]
  },
  {
   "cell_type": "code",
   "execution_count": 1,
   "id": "70350cd4-e093-4856-9035-08b9f9bb31bf",
   "metadata": {},
   "outputs": [],
   "source": [
    "import pandas_datareader.data as reader\n",
    "import datetime as dt\n",
    "import matplotlib.pyplot as plt\n",
    "import pandas as pd\n",
    "import numpy as np\n",
    "\n",
    "end = dt.date(2021, 12, 30)\n",
    "start = dt.date(2016, 12, 31)"
   ]
  },
  {
   "cell_type": "markdown",
   "id": "bd4fb437",
   "metadata": {},
   "source": [
    "## Filling the different tiers with constiuents:\n",
    "'BTC-USD' included in tier 1 and 2 to force data to go back to 2016; computing daily returns through (close - open) / open"
   ]
  },
  {
   "cell_type": "code",
   "execution_count": 4,
   "id": "918656ff",
   "metadata": {},
   "outputs": [
    {
     "name": "stderr",
     "output_type": "stream",
     "text": [
      "C:\\Users\\cbure\\anaconda3\\lib\\site-packages\\pandas_datareader\\base.py:272: SymbolWarning: Failed to read symbol: 'ICP1-USD', replacing with NaN.\n",
      "  warnings.warn(msg.format(sym), SymbolWarning)\n",
      "C:\\Users\\cbure\\anaconda3\\lib\\site-packages\\pandas_datareader\\base.py:272: SymbolWarning: Failed to read symbol: 'ICP1-USD', replacing with NaN.\n",
      "  warnings.warn(msg.format(sym), SymbolWarning)\n",
      "C:\\Users\\cbure\\anaconda3\\lib\\site-packages\\pandas_datareader\\base.py:272: SymbolWarning: Failed to read symbol: 'ICP1-USD', replacing with NaN.\n",
      "  warnings.warn(msg.format(sym), SymbolWarning)\n"
     ]
    }
   ],
   "source": [
    "tier_1 = ['DOT-USD',\n",
    "          'ATOM-USD',\n",
    "          'ONE1-USD',\n",
    "          'KSM-USD',\n",
    "          'CKB-USD',\n",
    "          'RUNE-USD',\n",
    "          'MATIC-USD', \n",
    "          'BTC-USD']\n",
    "\n",
    "tier_2 = ['LUNA1-USD',\n",
    "          'SOL1-USD',\n",
    "          'ADA-USD',\n",
    "          'AVAX-USD',\n",
    "          'TRX-USD',\n",
    "          'FTM-USD',\n",
    "          'EGLD-USD',\n",
    "          'ICP1-USD',\n",
    "          'VET-USD',\n",
    "          'ALGO-USD',\n",
    "          'ROSE-USD',\n",
    "          'EOS-USD',\n",
    "          'QTUM-USD',\n",
    "          'XTZ-USD',\n",
    "          'HBAR-USD',\n",
    "          'ONT-USD',\n",
    "          'ZEN-USD',\n",
    "          'STX1-USD',\n",
    "          'CELO-USD',\n",
    "          'BTC-USD']\n",
    "\n",
    "tier_3 = ['BTC-USD',\n",
    "          'ETH-USD']\n",
    "\n",
    "df1 = (reader.get_data_yahoo(tier_1, start, end)['Close'] - reader.get_data_yahoo(tier_1, start, end)['Open']) / reader.get_data_yahoo(tier_1, start, end)['Open']\n",
    "\n",
    "df2 = (reader.get_data_yahoo(tier_2, start, end)['Close'] - reader.get_data_yahoo(tier_2, start, end)['Open']) / reader.get_data_yahoo(tier_2, start, end)['Open']\n",
    "\n",
    "df3 = (reader.get_data_yahoo(tier_3, start, end)['Close'] - reader.get_data_yahoo(tier_3, start, end)['Open']) / reader.get_data_yahoo(tier_3, start, end)['Open']"
   ]
  },
  {
   "cell_type": "code",
   "execution_count": 5,
   "id": "1907a42a",
   "metadata": {},
   "outputs": [
    {
     "name": "stdout",
     "output_type": "stream",
     "text": [
      "Symbols      DOT-USD  ATOM-USD  ONE1-USD   KSM-USD   CKB-USD  RUNE-USD  \\\n",
      "Date                                                                     \n",
      "2016-12-31       NaN       NaN       NaN       NaN       NaN       NaN   \n",
      "2017-01-01       NaN       NaN       NaN       NaN       NaN       NaN   \n",
      "2017-01-02       NaN       NaN       NaN       NaN       NaN       NaN   \n",
      "2017-01-03       NaN       NaN       NaN       NaN       NaN       NaN   \n",
      "2017-01-04       NaN       NaN       NaN       NaN       NaN       NaN   \n",
      "...              ...       ...       ...       ...       ...       ...   \n",
      "2021-12-27 -0.013131 -0.078321 -0.013548 -0.003285  0.008717  0.062139   \n",
      "2021-12-28 -0.098679 -0.103102 -0.097065 -0.085265 -0.082975 -0.129861   \n",
      "2021-12-29 -0.040218  0.049530 -0.050962 -0.039254 -0.022475 -0.057664   \n",
      "2021-12-30  0.027597  0.081685  0.018301 -0.011347  0.047298  0.009198   \n",
      "2021-12-31 -0.030817  0.074740  0.021702 -0.010599 -0.017962 -0.008697   \n",
      "\n",
      "Symbols     MATIC-USD   BTC-USD  \n",
      "Date                             \n",
      "2016-12-31        NaN  0.003244  \n",
      "2017-01-01        NaN  0.035974  \n",
      "2017-01-02        NaN  0.023165  \n",
      "2017-01-03        NaN  0.021770  \n",
      "2017-01-04        NaN  0.105640  \n",
      "...               ...       ...  \n",
      "2021-12-27  -0.052323 -0.003193  \n",
      "2021-12-28  -0.084075 -0.060991  \n",
      "2021-12-29  -0.009606 -0.024760  \n",
      "2021-12-30   0.032750  0.014788  \n",
      "2021-12-31  -0.011692 -0.018294  \n",
      "\n",
      "[1827 rows x 8 columns] Symbols     LUNA1-USD  SOL1-USD   ADA-USD  AVAX-USD   TRX-USD   FTM-USD  \\\n",
      "Date                                                                      \n",
      "2016-12-31        NaN       NaN       NaN       NaN       NaN       NaN   \n",
      "2017-01-01        NaN       NaN       NaN       NaN       NaN       NaN   \n",
      "2017-01-02        NaN       NaN       NaN       NaN       NaN       NaN   \n",
      "2017-01-03        NaN       NaN       NaN       NaN       NaN       NaN   \n",
      "2017-01-04        NaN       NaN       NaN       NaN       NaN       NaN   \n",
      "...               ...       ...       ...       ...       ...       ...   \n",
      "2021-12-27  -0.087972 -0.088974  0.039204 -0.013143 -0.006854 -0.061758   \n",
      "2021-12-28  -0.060337 -0.002123 -0.074469 -0.057524 -0.047737  0.014210   \n",
      "2021-12-29  -0.013486 -0.028667 -0.050749 -0.038520 -0.010123 -0.046009   \n",
      "2021-12-30   0.007323  0.011479  0.020760 -0.011338  0.018268 -0.013589   \n",
      "2021-12-31   0.008256  0.008080 -0.036944  0.072862 -0.032230  0.073027   \n",
      "\n",
      "Symbols     EGLD-USD   VET-USD  ALGO-USD  ROSE-USD   EOS-USD  QTUM-USD  \\\n",
      "Date                                                                     \n",
      "2016-12-31       NaN       NaN       NaN       NaN       NaN       NaN   \n",
      "2017-01-01       NaN       NaN       NaN       NaN       NaN       NaN   \n",
      "2017-01-02       NaN       NaN       NaN       NaN       NaN       NaN   \n",
      "2017-01-03       NaN       NaN       NaN       NaN       NaN       NaN   \n",
      "2017-01-04       NaN       NaN       NaN       NaN       NaN       NaN   \n",
      "...              ...       ...       ...       ...       ...       ...   \n",
      "2021-12-27  0.028884  0.030260  0.031733 -0.072767 -0.002046  0.007829   \n",
      "2021-12-28 -0.095986 -0.101422       NaN -0.000747 -0.075217 -0.090842   \n",
      "2021-12-29 -0.010979 -0.060245       NaN  0.103282 -0.033661 -0.032622   \n",
      "2021-12-30  0.004316  0.026131       NaN  0.095012  0.015856  0.007064   \n",
      "2021-12-31 -0.003937 -0.023469       NaN  0.039366 -0.014616 -0.013078   \n",
      "\n",
      "Symbols      XTZ-USD  HBAR-USD   ONT-USD   ZEN-USD  STX1-USD  CELO-USD  \\\n",
      "Date                                                                     \n",
      "2016-12-31       NaN       NaN       NaN       NaN       NaN       NaN   \n",
      "2017-01-01       NaN       NaN       NaN       NaN       NaN       NaN   \n",
      "2017-01-02       NaN       NaN       NaN       NaN       NaN       NaN   \n",
      "2017-01-03       NaN       NaN       NaN       NaN       NaN       NaN   \n",
      "2017-01-04       NaN       NaN       NaN       NaN       NaN       NaN   \n",
      "...              ...       ...       ...       ...       ...       ...   \n",
      "2021-12-27  0.047831 -0.017295  0.006625  0.003423       NaN -0.012290   \n",
      "2021-12-28 -0.120966 -0.072840 -0.085720 -0.100385       NaN -0.088425   \n",
      "2021-12-29 -0.032036 -0.029439 -0.048559 -0.028355       NaN -0.024416   \n",
      "2021-12-30 -0.004772  0.052988  0.019362 -0.003265 -0.113599  0.065138   \n",
      "2021-12-31  0.001190 -0.024880 -0.018333 -0.017987 -0.070613  0.014194   \n",
      "\n",
      "Symbols      BTC-USD  ICP1-USD  \n",
      "Date                            \n",
      "2016-12-31  0.003244       NaN  \n",
      "2017-01-01  0.035974       NaN  \n",
      "2017-01-02  0.023165       NaN  \n",
      "2017-01-03  0.021770       NaN  \n",
      "2017-01-04  0.105640       NaN  \n",
      "...              ...       ...  \n",
      "2021-12-27 -0.003193       NaN  \n",
      "2021-12-28 -0.060991       NaN  \n",
      "2021-12-29 -0.024760       NaN  \n",
      "2021-12-30  0.014788       NaN  \n",
      "2021-12-31 -0.018294       NaN  \n",
      "\n",
      "[1827 rows x 20 columns] Symbols      BTC-USD   ETH-USD\n",
      "Date                          \n",
      "2016-12-31  0.003244       NaN\n",
      "2017-01-01  0.035974       NaN\n",
      "2017-01-02  0.023165       NaN\n",
      "2017-01-03  0.021770       NaN\n",
      "2017-01-04  0.105640       NaN\n",
      "...              ...       ...\n",
      "2021-12-27 -0.003193 -0.006691\n",
      "2021-12-28 -0.060991 -0.058611\n",
      "2021-12-29 -0.024760 -0.044479\n",
      "2021-12-30  0.014788  0.022475\n",
      "2021-12-31 -0.018294 -0.008294\n",
      "\n",
      "[1827 rows x 2 columns]\n"
     ]
    }
   ],
   "source": [
    "### NaN values for most coins in 2016 and 2017 bc they haven't launched yet \n",
    "print(df1,\n",
    "df2,\n",
    "df3)"
   ]
  },
  {
   "cell_type": "markdown",
   "id": "bb3388fa",
   "metadata": {},
   "source": [
    "##### Delete the BTC columns, they're not in the tier"
   ]
  },
  {
   "cell_type": "code",
   "execution_count": 6,
   "id": "7adb4b47",
   "metadata": {},
   "outputs": [],
   "source": [
    "df1 = df1.drop('BTC-USD', 1)\n",
    "df2 = df2.drop('BTC-USD', 1)"
   ]
  },
  {
   "cell_type": "markdown",
   "id": "ab0b0d2e",
   "metadata": {},
   "source": [
    "##### Replace NaN values with 0 for backtesting & make an index column id_num for use in tracking the ~90 days between rebalancing periods"
   ]
  },
  {
   "cell_type": "code",
   "execution_count": 7,
   "id": "37c2549c-2356-48aa-8518-a7d6b344b37f",
   "metadata": {},
   "outputs": [],
   "source": [
    "df1 = df1.fillna(0)\n",
    "df1.insert(0, 'id_num', range(1, 1 + len(df1)))\n",
    "\n",
    "df2 = df2.fillna(0)\n",
    "df2.insert(0, 'id_num', range(1, 1 + len(df2)))\n",
    "\n",
    "df3 = df3.fillna(0)\n",
    "df3.insert(0, 'id_num', range(1, 1 + len(df3)))"
   ]
  },
  {
   "cell_type": "code",
   "execution_count": 8,
   "id": "80aadd16",
   "metadata": {},
   "outputs": [
    {
     "name": "stdout",
     "output_type": "stream",
     "text": [
      "Symbols     id_num   DOT-USD  ATOM-USD  ONE1-USD   KSM-USD   CKB-USD  \\\n",
      "Date                                                                   \n",
      "2016-12-31       1  0.000000  0.000000  0.000000  0.000000  0.000000   \n",
      "2017-01-01       2  0.000000  0.000000  0.000000  0.000000  0.000000   \n",
      "2017-01-02       3  0.000000  0.000000  0.000000  0.000000  0.000000   \n",
      "2017-01-03       4  0.000000  0.000000  0.000000  0.000000  0.000000   \n",
      "2017-01-04       5  0.000000  0.000000  0.000000  0.000000  0.000000   \n",
      "...            ...       ...       ...       ...       ...       ...   \n",
      "2021-12-27    1823 -0.013131 -0.078321 -0.013548 -0.003285  0.008717   \n",
      "2021-12-28    1824 -0.098679 -0.103102 -0.097065 -0.085265 -0.082975   \n",
      "2021-12-29    1825 -0.040218  0.049530 -0.050962 -0.039254 -0.022475   \n",
      "2021-12-30    1826  0.027597  0.081685  0.018301 -0.011347  0.047298   \n",
      "2021-12-31    1827 -0.030817  0.074740  0.021702 -0.010599 -0.017962   \n",
      "\n",
      "Symbols     RUNE-USD  MATIC-USD  \n",
      "Date                             \n",
      "2016-12-31  0.000000   0.000000  \n",
      "2017-01-01  0.000000   0.000000  \n",
      "2017-01-02  0.000000   0.000000  \n",
      "2017-01-03  0.000000   0.000000  \n",
      "2017-01-04  0.000000   0.000000  \n",
      "...              ...        ...  \n",
      "2021-12-27  0.062139  -0.052323  \n",
      "2021-12-28 -0.129861  -0.084075  \n",
      "2021-12-29 -0.057664  -0.009606  \n",
      "2021-12-30  0.009198   0.032750  \n",
      "2021-12-31 -0.008697  -0.011692  \n",
      "\n",
      "[1827 rows x 8 columns] Symbols     id_num  LUNA1-USD  SOL1-USD   ADA-USD  AVAX-USD   TRX-USD  \\\n",
      "Date                                                                    \n",
      "2016-12-31       1   0.000000  0.000000  0.000000  0.000000  0.000000   \n",
      "2017-01-01       2   0.000000  0.000000  0.000000  0.000000  0.000000   \n",
      "2017-01-02       3   0.000000  0.000000  0.000000  0.000000  0.000000   \n",
      "2017-01-03       4   0.000000  0.000000  0.000000  0.000000  0.000000   \n",
      "2017-01-04       5   0.000000  0.000000  0.000000  0.000000  0.000000   \n",
      "...            ...        ...       ...       ...       ...       ...   \n",
      "2021-12-27    1823  -0.087972 -0.088974  0.039204 -0.013143 -0.006854   \n",
      "2021-12-28    1824  -0.060337 -0.002123 -0.074469 -0.057524 -0.047737   \n",
      "2021-12-29    1825  -0.013486 -0.028667 -0.050749 -0.038520 -0.010123   \n",
      "2021-12-30    1826   0.007323  0.011479  0.020760 -0.011338  0.018268   \n",
      "2021-12-31    1827   0.008256  0.008080 -0.036944  0.072862 -0.032230   \n",
      "\n",
      "Symbols      FTM-USD  EGLD-USD   VET-USD  ALGO-USD  ROSE-USD   EOS-USD  \\\n",
      "Date                                                                     \n",
      "2016-12-31  0.000000  0.000000  0.000000  0.000000  0.000000  0.000000   \n",
      "2017-01-01  0.000000  0.000000  0.000000  0.000000  0.000000  0.000000   \n",
      "2017-01-02  0.000000  0.000000  0.000000  0.000000  0.000000  0.000000   \n",
      "2017-01-03  0.000000  0.000000  0.000000  0.000000  0.000000  0.000000   \n",
      "2017-01-04  0.000000  0.000000  0.000000  0.000000  0.000000  0.000000   \n",
      "...              ...       ...       ...       ...       ...       ...   \n",
      "2021-12-27 -0.061758  0.028884  0.030260  0.031733 -0.072767 -0.002046   \n",
      "2021-12-28  0.014210 -0.095986 -0.101422  0.000000 -0.000747 -0.075217   \n",
      "2021-12-29 -0.046009 -0.010979 -0.060245  0.000000  0.103282 -0.033661   \n",
      "2021-12-30 -0.013589  0.004316  0.026131  0.000000  0.095012  0.015856   \n",
      "2021-12-31  0.073027 -0.003937 -0.023469  0.000000  0.039366 -0.014616   \n",
      "\n",
      "Symbols     QTUM-USD   XTZ-USD  HBAR-USD   ONT-USD   ZEN-USD  STX1-USD  \\\n",
      "Date                                                                     \n",
      "2016-12-31  0.000000  0.000000  0.000000  0.000000  0.000000  0.000000   \n",
      "2017-01-01  0.000000  0.000000  0.000000  0.000000  0.000000  0.000000   \n",
      "2017-01-02  0.000000  0.000000  0.000000  0.000000  0.000000  0.000000   \n",
      "2017-01-03  0.000000  0.000000  0.000000  0.000000  0.000000  0.000000   \n",
      "2017-01-04  0.000000  0.000000  0.000000  0.000000  0.000000  0.000000   \n",
      "...              ...       ...       ...       ...       ...       ...   \n",
      "2021-12-27  0.007829  0.047831 -0.017295  0.006625  0.003423  0.000000   \n",
      "2021-12-28 -0.090842 -0.120966 -0.072840 -0.085720 -0.100385  0.000000   \n",
      "2021-12-29 -0.032622 -0.032036 -0.029439 -0.048559 -0.028355  0.000000   \n",
      "2021-12-30  0.007064 -0.004772  0.052988  0.019362 -0.003265 -0.113599   \n",
      "2021-12-31 -0.013078  0.001190 -0.024880 -0.018333 -0.017987 -0.070613   \n",
      "\n",
      "Symbols     CELO-USD  ICP1-USD  \n",
      "Date                            \n",
      "2016-12-31  0.000000       0.0  \n",
      "2017-01-01  0.000000       0.0  \n",
      "2017-01-02  0.000000       0.0  \n",
      "2017-01-03  0.000000       0.0  \n",
      "2017-01-04  0.000000       0.0  \n",
      "...              ...       ...  \n",
      "2021-12-27 -0.012290       0.0  \n",
      "2021-12-28 -0.088425       0.0  \n",
      "2021-12-29 -0.024416       0.0  \n",
      "2021-12-30  0.065138       0.0  \n",
      "2021-12-31  0.014194       0.0  \n",
      "\n",
      "[1827 rows x 20 columns] Symbols     id_num   BTC-USD   ETH-USD\n",
      "Date                                  \n",
      "2016-12-31       1  0.003244  0.000000\n",
      "2017-01-01       2  0.035974  0.000000\n",
      "2017-01-02       3  0.023165  0.000000\n",
      "2017-01-03       4  0.021770  0.000000\n",
      "2017-01-04       5  0.105640  0.000000\n",
      "...            ...       ...       ...\n",
      "2021-12-27    1823 -0.003193 -0.006691\n",
      "2021-12-28    1824 -0.060991 -0.058611\n",
      "2021-12-29    1825 -0.024760 -0.044479\n",
      "2021-12-30    1826  0.014788  0.022475\n",
      "2021-12-31    1827 -0.018294 -0.008294\n",
      "\n",
      "[1827 rows x 3 columns]\n"
     ]
    }
   ],
   "source": [
    "print(df1, df2, df3)"
   ]
  },
  {
   "cell_type": "markdown",
   "id": "8870ffb9",
   "metadata": {},
   "source": [
    "## List of historical market caps"
   ]
  },
  {
   "cell_type": "markdown",
   "id": "42087742",
   "metadata": {},
   "source": [
    "We cannot pull historical market caps with yahoo finance, so had to hardcode them in. These are quarterly marketcaps, the last marketcap in each list is as of September 30, 2021, and going back 1 quarter each value in the list."
   ]
  },
  {
   "cell_type": "code",
   "execution_count": 9,
   "id": "1ae25980",
   "metadata": {},
   "outputs": [],
   "source": [
    "### market caps since 12/31/2016\n",
    "# Tier 1\n",
    "DOT_mc = [4322446635.64, 9469114707.93, 38701872968.66, 17484698847.44, 31343778065.89]\n",
    "ATOM_mc = [1157460305, 420637568.4, 791053590.2, 374007880.1, 503721666, 1081493291, 1129544215, 4236624464, 2531440443, 7525543540]\n",
    "ONE1_mc = [48424909.6, 13108962.22, 15865567.76, 10418242.68, 28174763.54, 31919698.92, 34339672.42, 1766994877, 674283746, 1523909827]\n",
    "KSM_mc = [302772125.1, 525171674, 4558776176, 1811602269, 2733811230]\n",
    "CKB_mc = [60120837.71, 85117208.52, 110449286.4, 82022246.46, 854193933.8, 348072702.9, 420000000]\n",
    "RUNE_mc = [83936517.2, 192317382.7, 1736151812, 1548018147, 1465951067]\n",
    "MATIC_mc = [52519955.69, 24062942.1, 36364642.82, 29497257.95, 68607178.26, 75323946.15, 87178222.71, 1860385647, 7378672916, 7337434975]\n",
    "\n",
    "# Tier 2\n",
    "LUNA_mc = [78368583.63, 129078857.7, 324265989.6, 7291007882, 2513520912, 13651237075]\n",
    "SOL1_mc = [14716473.17, 117961741.6, 71467743.83, 5125485315, 9263435329, 40279262197]\n",
    "ADA_mc = [16330574015, 3696261103, 3254005763, 2187197363, 1131968150, 1876570761, 2335794991, 966561189.7, 864239640.5, 770139956, 2177859450, 3148583451, 5723050250, 38757763905, 43856356089, 66159228423]\n",
    "AVAX_mc = [101639269.4, 224892312, 3791442943, 2058383656, 14427018356]\n",
    "TRX_mc = [2318273766, 2711717264, 2419769965, 1446458737, 1340954485, 1556465646, 2335936002, 889017219.6, 884150464, 762494042.8, 1079678365, 1885042029, 1932448777, 4735412126, 4867664987, 6155416686]\n",
    "FTM_mc = [47928839.67, 19615159.89, 20591623.56, 5380495.996, 10833307.98, 83107629.76, 42557918.01, 1099961973, 598916234.7, 3053026796]\n",
    "EGLD_mc = [8811615.724, 11493903.58, 8048494.266, 53449067.75, 270060.8454, 401000000, 2455946993, 1504148673, 3967475009]\n",
    "ICP1_mc = [7330000000, 7400000000]\n",
    "VET_mc = [715944597.9, 235855051.4, 327975687, 504595845.3, 185297875.8, 299826256.9, 162857676.7, 482456046.8, 848968584.7, 1301405026, 5743381263, 5788401929, 5445683365]\n",
    "ALGO_mc = [88854618.95, 111239557.9, 103085760.4, 165218687, 358940708.4, 399420538.4, 3458467738, 2749136006, 9599989458]\n",
    "ROSE_mc = [62751117.26, 276081345.9, 87993507.16, 378000000]\n",
    "EOS_mc = [267965569.9, 4115946796, 4572818327, 6947607205, 5206196953, 2451582904, 3823357523, 5833670146, 2604489080, 2480890317, 2052316217, 2224214786, 2434818314, 2453095097, 4133910842, 3943807460, 3593183825]\n",
    "QTUM_mc = [587506086.9, 3537608194, 1253795920, 723705523.6, 342889330.3, 207475405.8, 250168960, 534604172.5, 156769844.4, 156602708.8, 115822933.6, 161752603.8, 236743672.4, 216217144.2, 859539912.5, 744190286.8, 892835772.9]\n",
    "XTZ_mc = [704103510.6, 295096651.1, 592926843.9, 688721209.5, 601306244.9, 926128510.5, 1172936883, 1787737370, 1690579368, 1528092650, 3555162427, 2533069497, 4852336672]\n",
    "HBAR_mc = [16734275.67, 121312769.3, 180366323.4, 176160212.1, 214162140, 2994746284, 1679999427, 3196756021]\n",
    "ONT_mc = [259653333.8, 781855797.4, 364825588.8, 182147019.2, 641951642, 772104756.5, 313439896.6, 334303461.3, 235747503.2, 417458644.6, 481499467.8, 358532994.7, 1327595492, 627681872.8, 639123096.2]\n",
    "ZEN_mc = [17497188.04, 153516513.5, 59548035.08, 68225464.76, 81221159.56, 31974310.56, 41872324.68, 70660742.53, 24757830.41, 61429277.41, 49398527.1, 64229202.72, 56343348.92, 115137638.4, 571726983.5, 750693623, 752309991.7]\n",
    "STX_mc = [32162854.94, 64327982.94, 95870665.38, 282842856.6, 1348102201, 868970614.2, 1426387587]\n",
    "CELO_mc = [283610951.6, 190868355.9, 798787728.6, 805281671.6, 1746430957]\n",
    "          \n",
    "# Tier 3\n",
    "BTC_mc = [15576503794.39, 17575951028.33, 40273068762.93, 71938913742.75, 233524465189.33, 117335340577.46, 109177747554.53, 114243175578.83, 64362351163.81, 72144407426.99, 192893862979.80, 148803916514.77, 129970082372.68, 117698734312.41, 168424268927.21, 199336157853.55, 539438485763.34, 1097648506570.54, 657308520165.89, 824440444029.20]\n",
    "ETH_mc = [702886700.07, 4620204868.39, 26797925940.24, 27538040746.19, 66233351520.91, 38310155741.05, 43178454755.98, 23399822941.32, 14549158606.44, 14952276287.75, 33669891006.73, 18120831697.49, 14179081384.06, 14444181741.15, 25177008021.31, 40222436952.10, 85077766600.71, 210525145649.37, 250293822920.25, 333190201118.67]\n",
    "\n",
    "mc_list_t1 = [DOT_mc, ATOM_mc, ONE1_mc, KSM_mc, CKB_mc, RUNE_mc, MATIC_mc]\n",
    "mc_list_t2 = [LUNA_mc, SOL1_mc, ADA_mc, AVAX_mc, TRX_mc, FTM_mc, EGLD_mc, ICP1_mc, VET_mc, ALGO_mc, ROSE_mc, EOS_mc, QTUM_mc, XTZ_mc, HBAR_mc, ONT_mc, ZEN_mc, STX_mc, CELO_mc]\n",
    "mc_list_t3 = [BTC_mc, ETH_mc]"
   ]
  },
  {
   "cell_type": "markdown",
   "id": "87ccd5d4",
   "metadata": {},
   "source": [
    "### Adding zeroes in to marketcap dataframes^^, so length is 20\n",
    "12/31/16 - 9/30/21 = 20 rebalancing periods\n",
    "temp_list_t# is a 2D array of the market caps for each each in tier #"
   ]
  },
  {
   "cell_type": "code",
   "execution_count": 10,
   "id": "52e1d92e-e7c4-4282-85d3-e78fa91f377d",
   "metadata": {},
   "outputs": [],
   "source": [
    "def add_zeros(dataframe):\n",
    "    while(len(dataframe) < 20):\n",
    "        dataframe.insert(0, 0)\n",
    "    return(dataframe)\n",
    "\n",
    "### temp_list_t# is a list of lists of historical marketcaps for tier #\n",
    "temp_list_t1 = []\n",
    "temp_list_t2 = []\n",
    "temp_list_t3 = []\n",
    "\n",
    "\n",
    "for i in range(len(mc_list_t1)):\n",
    "    temp_list_t1.append(add_zeros(mc_list_t1[i]))\n",
    "        \n",
    "for i in range(len(mc_list_t2)):\n",
    "    temp_list_t2.append(add_zeros(mc_list_t2[i]))\n",
    "        \n",
    "for i in range(len(mc_list_t3)):\n",
    "    temp_list_t3.append(add_zeros(mc_list_t3[i]))"
   ]
  },
  {
   "cell_type": "code",
   "execution_count": 11,
   "id": "3fd2fc23",
   "metadata": {},
   "outputs": [
    {
     "name": "stdout",
     "output_type": "stream",
     "text": [
      "DOT marketcaps every rebalance date starting 12/31/2016:  [0, 0, 0, 0, 0, 0, 0, 0, 0, 0, 0, 0, 0, 0, 0, 4322446635.64, 9469114707.93, 38701872968.66, 17484698847.44, 31343778065.89]\n"
     ]
    }
   ],
   "source": [
    "print(\"DOT marketcaps every rebalance date starting 12/31/2016: \", temp_list_t1[0])"
   ]
  },
  {
   "cell_type": "markdown",
   "id": "7d8cf587",
   "metadata": {},
   "source": [
    "## Creating list of weights based on market caps at a single point in time"
   ]
  },
  {
   "cell_type": "markdown",
   "id": "479208ed",
   "metadata": {},
   "source": [
    "##### The reweighting_function runs recursively to have the inputted list of weights either meet the cap standards or be equally weighted if it cannot meet the cap"
   ]
  },
  {
   "cell_type": "code",
   "execution_count": 12,
   "id": "76db2a31",
   "metadata": {},
   "outputs": [],
   "source": [
    "def reweighting_function(weight_list, cap, index_list_of_nonzeroes_undercap):\n",
    "    \"\"\"\n",
    "    reweighting_function outputs a list of weights that all fit the max cap\n",
    "    :param weight_list: a list of weights, most likely not fitting the cap\n",
    "    :param cap: max weight of any 1 constituent\n",
    "    :param index_list_of_nonzeroes_undercap: ordered list of the indexes of non-zero weights\n",
    "    :return: a list of weights that fit the cap\n",
    "    \"\"\"\n",
    "\n",
    "    ### Obtaining the excess value, amount of weight thats over the cap, to be distributed to other constituents\n",
    "    temp_excess_val = 0\n",
    "    for i in range(len(weight_list)):\n",
    "        if(weight_list[i] > cap):\n",
    "            temp_excess_val += weight_list[i] - cap\n",
    "            weight_list[i] = cap\n",
    "\n",
    "    ### Obtaining the cumulative value of weights between 0 and the cap\n",
    "    temp_mc = 0\n",
    "    for i in index_list_of_nonzeroes_undercap:\n",
    "        temp_mc += weight_list[i]\n",
    "\n",
    "    ### Allocating the excess value over the cap to constituent weights between 0 and the cap\n",
    "    for i in index_list_of_nonzeroes_undercap:\n",
    "        mc_adj_extra_weight = (weight_list[i] / temp_mc) * temp_excess_val\n",
    "        weight_list[i] = weight_list[i] + mc_adj_extra_weight\n",
    "        \n",
    "    ### Get the indexes of nonzero below-cap weights\n",
    "    non0_undercap_list_index = []\n",
    "    for i in range(len(weight_list)):\n",
    "            if(cap > weight_list[i] > 0):\n",
    "                non0_undercap_list_index.append(i)\n",
    "    \n",
    "    ### Recursive part keeps running function until weights all fit\n",
    "    for i in range(len(weight_list)):\n",
    "        if(weight_list[i] > cap):\n",
    "            reweighting_function(weight_list, cap, non0_undercap_list_index)\n",
    "            break\n",
    "\n",
    "    return(weight_list)"
   ]
  },
  {
   "cell_type": "markdown",
   "id": "8aca5c48",
   "metadata": {},
   "source": [
    "##### The weighting_function runs reweighting_function, so this one function can determine the weights of a tier"
   ]
  },
  {
   "cell_type": "code",
   "execution_count": 13,
   "id": "336d00b7",
   "metadata": {},
   "outputs": [],
   "source": [
    "def weighting_function(marketcaps, cap):  \n",
    "    \"\"\"\n",
    "    weighting_function outputs a list of appropriate weights accounting for caps\n",
    "    :param marketcaps: a list of marketcaps\n",
    "    :param cap: max weight of any 1 constituent\n",
    "    :return: a list of weights\n",
    "    \"\"\"\n",
    "    total_marketcap = 0\n",
    "    \n",
    "    ### Add all market caps\n",
    "    for i in range(len(marketcaps)):\n",
    "        total_marketcap += marketcaps[i]\n",
    "    \n",
    "    ### If marketcaps list is all 0s, return all those 0s as weights\n",
    "    if(total_marketcap == 0):\n",
    "        return(marketcaps)\n",
    "    \n",
    "    ### First iteration of weighting\n",
    "    weight_list = []\n",
    "    for i in range(len(marketcaps)):\n",
    "        temp_weight = marketcaps[i] / total_marketcap\n",
    "        weight_list.append(temp_weight)\n",
    "\n",
    "    ### Get the indexes of nonzero weights\n",
    "    non0_list_index = []\n",
    "    for i in range(len(weight_list)):\n",
    "            if(weight_list[i] > 0):\n",
    "                non0_list_index.append(i)\n",
    "    \n",
    "    ### Get the indexes of nonzero below-cap weights\n",
    "    non0_undercap_list_index = []\n",
    "    for i in range(len(weight_list)):\n",
    "            if(cap > weight_list[i] > 0):\n",
    "                non0_undercap_list_index.append(i)\n",
    "    \n",
    "    ### If number of nonzero marketcaps (or weights) is too small to fit under cap, assigns most equal weights\n",
    "    if(1 / np.count_nonzero(weight_list) > cap):\n",
    "        for i in range(len(weight_list)):\n",
    "            if(i in non0_list_index):\n",
    "                weight_list[i] = 1 / np.count_nonzero(weight_list)\n",
    "            else:\n",
    "                weight_list[i] = 0\n",
    "        return(weight_list)\n",
    "    ### Run recursive rewighting function\n",
    "    weight_list = reweighting_function(weight_list, cap, non0_undercap_list_index)\n",
    "    \n",
    "    return(weight_list)"
   ]
  },
  {
   "cell_type": "markdown",
   "id": "68e60b46",
   "metadata": {},
   "source": [
    "## Creating a list of lists of weights of constituents in each tier"
   ]
  },
  {
   "cell_type": "markdown",
   "id": "fe826822",
   "metadata": {},
   "source": [
    "##### Tier 1"
   ]
  },
  {
   "cell_type": "code",
   "execution_count": 14,
   "id": "f3461486",
   "metadata": {},
   "outputs": [],
   "source": [
    "dataframe_of_mcs_quarterly_t1 = []\n",
    "\n",
    "for i in range(len(temp_list_t1[0])):\n",
    "    dataframe_of_mcs_at_one_point = []\n",
    "    for j in range(len(temp_list_t1)):\n",
    "        ### temp_list_t1 is a list of lists of historical marketcaps for tier 1\n",
    "        temp_value = temp_list_t1[j][i]\n",
    "        dataframe_of_mcs_at_one_point.append(temp_value)\n",
    "    dataframe_of_mcs_quarterly_t1.append(dataframe_of_mcs_at_one_point)\n",
    "\n",
    "t1_list_of_list_of_weights = []\n",
    "for i in range(len(dataframe_of_mcs_quarterly_t1)):\n",
    "    t1_list_of_list_of_weights.append(weighting_function(dataframe_of_mcs_quarterly_t1[i], 0.2))"
   ]
  },
  {
   "cell_type": "code",
   "execution_count": 15,
   "id": "3b6e8b95",
   "metadata": {},
   "outputs": [
    {
     "name": "stdout",
     "output_type": "stream",
     "text": [
      "List of tier 1 weights within the tier as of last rebalancing period (9/30/2021):  [0.2, 0.2, 0.09921817416309764, 0.1779920005379506, 0.027345209283502453, 0.09544461601544935, 0.2]\n"
     ]
    }
   ],
   "source": [
    "print(\"List of tier 1 weights within the tier as of last rebalancing period (9/30/2021): \", t1_list_of_list_of_weights[19])"
   ]
  },
  {
   "cell_type": "markdown",
   "id": "e808bee5",
   "metadata": {},
   "source": [
    "##### Tier 2"
   ]
  },
  {
   "cell_type": "code",
   "execution_count": 16,
   "id": "f161e217",
   "metadata": {},
   "outputs": [],
   "source": [
    "dataframe_of_mcs_quarterly_t2 = []\n",
    "\n",
    "for i in range(len(temp_list_t2[0])):\n",
    "    dataframe_of_mcs_at_one_point = []\n",
    "    for j in range(len(temp_list_t2)):\n",
    "        ### temp_list_t2 is a list of lists of historical marketcaps for tier 2\n",
    "        temp_value = temp_list_t2[j][i]\n",
    "        dataframe_of_mcs_at_one_point.append(temp_value)\n",
    "    dataframe_of_mcs_quarterly_t2.append(dataframe_of_mcs_at_one_point)\n",
    "\n",
    "t2_list_of_list_of_weights = []\n",
    "for i in range(len(dataframe_of_mcs_quarterly_t2)):\n",
    "    t2_list_of_list_of_weights.append(weighting_function(dataframe_of_mcs_quarterly_t2[i], 0.15))"
   ]
  },
  {
   "cell_type": "code",
   "execution_count": 17,
   "id": "dd05f396",
   "metadata": {},
   "outputs": [
    {
     "name": "stdout",
     "output_type": "stream",
     "text": [
      "List of tier 2 weights within the tier as of last rebalancing period (9/30/2021):  [0.11771611606125877, 0.15, 0.15, 0.1244057632200199, 0.05307883388396761, 0.02632658525242622, 0.03421197259000703, 0.06381101244286427, 0.04695872553566405, 0.08278176307510862, 0.003259535500459824, 0.03098441861710454, 0.007699020893777869, 0.04184223185864305, 0.02756597813957193, 0.005511228627586505, 0.006487251654224299, 0.01229989676518975, 0.015059665882125721]\n"
     ]
    }
   ],
   "source": [
    "print(\"List of tier 2 weights within the tier as of last rebalancing period (9/30/2021): \", t2_list_of_list_of_weights[19])"
   ]
  },
  {
   "cell_type": "markdown",
   "id": "1b49843b",
   "metadata": {},
   "source": [
    "##### Tier 3"
   ]
  },
  {
   "cell_type": "code",
   "execution_count": 18,
   "id": "ec6af797",
   "metadata": {},
   "outputs": [],
   "source": [
    "dataframe_of_mcs_quarterly_t3 = []\n",
    "\n",
    "for i in range(len(temp_list_t3[0])):\n",
    "    dataframe_of_mcs_at_one_point = []\n",
    "    for j in range(len(temp_list_t3)):\n",
    "        ### temp_list_t3 is a list of lists of historical marketcaps for tier 3    \n",
    "        temp_value = temp_list_t3[j][i]\n",
    "        dataframe_of_mcs_at_one_point.append(temp_value)\n",
    "    dataframe_of_mcs_quarterly_t3.append(dataframe_of_mcs_at_one_point)\n",
    "\n",
    "t3_list_of_list_of_weights = []\n",
    "for i in range(len(dataframe_of_mcs_quarterly_t3)):\n",
    "    t3_list_of_list_of_weights.append(weighting_function(dataframe_of_mcs_quarterly_t3[i], 1.0))\n",
    "    "
   ]
  },
  {
   "cell_type": "code",
   "execution_count": 19,
   "id": "c2cadeba",
   "metadata": {},
   "outputs": [
    {
     "name": "stdout",
     "output_type": "stream",
     "text": [
      "List of tier 3 weights within the tier as of last rebalancing period (9/30/2021):  [0.7121791803670592, 0.2878208196329408]\n"
     ]
    }
   ],
   "source": [
    "print(\"List of tier 3 weights within the tier as of last rebalancing period (9/30/2021): \", t3_list_of_list_of_weights[19])"
   ]
  },
  {
   "cell_type": "markdown",
   "id": "833a1454",
   "metadata": {},
   "source": [
    "### Weights of each coin within its tier"
   ]
  },
  {
   "cell_type": "markdown",
   "id": "23259039",
   "metadata": {},
   "source": [
    "Each tier has its own weight within the index: Tier 1 50%, Tier 2 40%, Tier 3 10%"
   ]
  },
  {
   "cell_type": "code",
   "execution_count": 20,
   "id": "77871f6a",
   "metadata": {},
   "outputs": [
    {
     "name": "stdout",
     "output_type": "stream",
     "text": [
      "Tier1 Weights (within tier): \n",
      "DOT-USD: 20.0 %\n",
      "ATOM-USD: 20.0 %\n",
      "ONE1-USD: 9.921817416309764 %\n",
      "KSM-USD: 17.79920005379506 %\n",
      "CKB-USD: 2.7345209283502454 %\n",
      "RUNE-USD: 9.544461601544935 %\n",
      "MATIC-USD: 20.0 %\n",
      "\n",
      "Tier2 Weights (within tier): \n",
      "LUNA1-USD: 11.771611606125877 %\n",
      "SOL1-USD: 15.0 %\n",
      "ADA-USD: 15.0 %\n",
      "AVAX-USD: 12.44057632200199 %\n",
      "TRX-USD: 5.307883388396761 %\n",
      "FTM-USD: 2.632658525242622 %\n",
      "EGLD-USD: 3.421197259000703 %\n",
      "ICP1-USD: 6.381101244286428 %\n",
      "VET-USD: 4.695872553566405 %\n",
      "ALGO-USD: 8.278176307510861 %\n",
      "ROSE-USD: 0.32595355004598237 %\n",
      "EOS-USD: 3.098441861710454 %\n",
      "QTUM-USD: 0.7699020893777869 %\n",
      "XTZ-USD: 4.1842231858643055 %\n",
      "HBAR-USD: 2.756597813957193 %\n",
      "ONT-USD: 0.5511228627586505 %\n",
      "ZEN-USD: 0.64872516542243 %\n",
      "STX1-USD: 1.2299896765189748 %\n",
      "CELO-USD: 1.5059665882125721 %\n",
      "\n",
      "Tier3 Weights (within tier): \n",
      "BTC-USD: 71.21791803670592 %\n",
      "ETH-USD: 28.782081963294083 %\n"
     ]
    }
   ],
   "source": [
    "print(\"Tier1 Weights (within tier): \")\n",
    "### must do the - 1 bc we originally added BTC-USD to tier_1 to initialize data back to 12/31/2016\n",
    "for j in range(len(tier_1) - 1):\n",
    "    print(tier_1[j] + \": \" + str(t1_list_of_list_of_weights[19][j] * 100) + ' %')\n",
    "\n",
    "    \n",
    "print('\\n' + \"Tier2 Weights (within tier): \")\n",
    "for j in range(len(tier_2) - 1):\n",
    "    print(tier_2[j] + \": \" + str(t2_list_of_list_of_weights[19][j] * 100) + ' %')\n",
    "\n",
    "    \n",
    "print('\\n' + \"Tier3 Weights (within tier): \")\n",
    "for j in range(len(tier_3)):\n",
    "    print(tier_3[j] + \": \" + str(t3_list_of_list_of_weights[19][j] * 100) + ' %')"
   ]
  },
  {
   "cell_type": "markdown",
   "id": "6f11571a",
   "metadata": {},
   "source": [
    "## Functions to backtest each Tier\n",
    "These functions backtest using an adjusting market cap weighting on historical data; weights change quarterly according to the rulebook."
   ]
  },
  {
   "cell_type": "code",
   "execution_count": 21,
   "id": "df913812-e3ef-476f-813f-aaebdc774c01",
   "metadata": {
    "tags": []
   },
   "outputs": [],
   "source": [
    "### Market-Cap Weighted- Tier 1\n",
    "\n",
    "def backtesting_data_df1(row, weight_list, i):  \n",
    "    \"\"\"\n",
    "    backtesting_data calculates value of a portfolio\n",
    "\n",
    "    :param row: dataframe to use\n",
    "    :param weight_list: list of list of weights quarterly\n",
    "    :param i: what round/row we are on\n",
    "    :return: value of portfolio\n",
    "    \"\"\"\n",
    "    m = 100\n",
    "    \n",
    "    ### id_num is the index column that numbers each row 1, 2, 3, ..... for purposes of rebalancing every quarter or ~90 days\n",
    "    ### 'm' refers to the the index of the list of weights within weight_list, since it contains weights for every rebalancing period\n",
    "    if(row['id_num'][i] < 91):\n",
    "        m = 0\n",
    "    elif(row['id_num'][i] < 182):\n",
    "        m = 1\n",
    "    elif(row['id_num'][i] < 274):\n",
    "        m = 2\n",
    "    elif(row['id_num'][i] < 366):\n",
    "        m = 3\n",
    "    elif(row['id_num'][i] < 456):\n",
    "        m = 4\n",
    "    elif(row['id_num'][i] < 547):\n",
    "        m = 5\n",
    "    elif(row['id_num'][i] < 639):\n",
    "        m = 6\n",
    "    elif(row['id_num'][i] < 731):\n",
    "        m = 7\n",
    "    elif(row['id_num'][i] < 821):\n",
    "        m = 8\n",
    "    elif(row['id_num'][i] < 912):\n",
    "        m = 9\n",
    "    elif(row['id_num'][i] < 1004):\n",
    "        m = 10\n",
    "    elif(row['id_num'][i] < 1096):\n",
    "        m = 11\n",
    "    elif(row['id_num'][i] < 1187):\n",
    "        m = 12\n",
    "    elif(row['id_num'][i] < 1277):\n",
    "        m = 13\n",
    "    elif(row['id_num'][i] < 1369):\n",
    "        m = 14\n",
    "    elif(row['id_num'][i] < 1458):\n",
    "        m = 15\n",
    "    elif(row['id_num'][i] < 1548):\n",
    "        m = 16\n",
    "    elif(row['id_num'][i] < 1639):\n",
    "        m = 17\n",
    "    elif(row['id_num'][i] < 1731):\n",
    "        m = 18\n",
    "    else:\n",
    "        m = 19\n",
    "    \n",
    "\n",
    "    value = (row['DOT-USD'][i] * weight_list[m][0] + \n",
    "        row['ATOM-USD'][i] * weight_list[m][1] + \n",
    "        row['ONE1-USD'][i] * weight_list[m][2] + \n",
    "        row['KSM-USD'][i] * weight_list[m][3] + \n",
    "        row['CKB-USD'][i] * weight_list[m][4] + \n",
    "        row['RUNE-USD'][i] * weight_list[m][5] + \n",
    "        row ['MATIC-USD'][i] * weight_list[m][6])\n",
    "        \n",
    "    return(value)"
   ]
  },
  {
   "cell_type": "code",
   "execution_count": 22,
   "id": "c7f9afc1",
   "metadata": {},
   "outputs": [],
   "source": [
    "### Market-Cap Weighted- Tier 2\n",
    "\n",
    "def backtesting_data_df2(row, weight_list, i):  \n",
    "    \"\"\"\n",
    "    backtesting_data calculates value of a portfolio\n",
    "\n",
    "    :param row: dataframe to use\n",
    "    :param weight_list: list of list of weights quarterly\n",
    "    :param i: what round/row we are on\n",
    "    :return: value of portfolio\n",
    "    \"\"\"\n",
    "    m = 100\n",
    "    \n",
    "    ### id_num is the index column that numbers each row 1, 2, 3, ..... for purposes of rebalancing every quarter / ~90 days\n",
    "    if(row['id_num'][i] < 91):\n",
    "        m = 0\n",
    "    elif(row['id_num'][i] < 182):\n",
    "        m = 1\n",
    "    elif(row['id_num'][i] < 274):\n",
    "        m = 2\n",
    "    elif(row['id_num'][i] < 366):\n",
    "        m = 3\n",
    "    elif(row['id_num'][i] < 456):\n",
    "        m = 4\n",
    "    elif(row['id_num'][i] < 547):\n",
    "        m = 5\n",
    "    elif(row['id_num'][i] < 639):\n",
    "        m = 6\n",
    "    elif(row['id_num'][i] < 731):\n",
    "        m = 7\n",
    "    elif(row['id_num'][i] < 821):\n",
    "        m = 8\n",
    "    elif(row['id_num'][i] < 912):\n",
    "        m = 9\n",
    "    elif(row['id_num'][i] < 1004):\n",
    "        m = 10\n",
    "    elif(row['id_num'][i] < 1096):\n",
    "        m = 11\n",
    "    elif(row['id_num'][i] < 1187):\n",
    "        m = 12\n",
    "    elif(row['id_num'][i] < 1277):\n",
    "        m = 13\n",
    "    elif(row['id_num'][i] < 1369):\n",
    "        m = 14\n",
    "    elif(row['id_num'][i] < 1458):\n",
    "        m = 15\n",
    "    elif(row['id_num'][i] < 1548):\n",
    "        m = 16\n",
    "    elif(row['id_num'][i] < 1639):\n",
    "        m = 17\n",
    "    elif(row['id_num'][i] < 1731):\n",
    "        m = 18\n",
    "    else:\n",
    "        m = 19\n",
    "    \n",
    "        \n",
    "    value = (row['LUNA1-USD'][i] * weight_list[m][0] + \n",
    "        row['SOL1-USD'][i] * weight_list[m][1] + \n",
    "        row['ADA-USD'][i] * weight_list[m][2] + \n",
    "        row['AVAX-USD'][i] * weight_list[m][3] + \n",
    "        row['TRX-USD'][i] * weight_list[m][4] + \n",
    "        row['FTM-USD'][i] * weight_list[m][5] + \n",
    "        row['EGLD-USD'][i] * weight_list[m][6] +\n",
    "        row['ICP1-USD'][i] * weight_list[m][7] + \n",
    "        row['VET-USD'][i] * weight_list[m][8] + \n",
    "        row['ALGO-USD'][i] * weight_list[m][9] + \n",
    "        row['ROSE-USD'][i] * weight_list[m][10] + \n",
    "        row['EOS-USD'][i] * weight_list[m][11] +\n",
    "        row['QTUM-USD'][i] * weight_list[m][12] + \n",
    "        row['XTZ-USD'][i] * weight_list[m][13] + \n",
    "        row['HBAR-USD'][i] * weight_list[m][14] + \n",
    "        row['ONT-USD'][i] * weight_list[m][15] + \n",
    "        row['ZEN-USD'][i] * weight_list[m][16] + \n",
    "        row['STX1-USD'][i] * weight_list[m][17] + \n",
    "        row['CELO-USD'][i] * weight_list[m][18])\n",
    "        \n",
    "    return(value)\n"
   ]
  },
  {
   "cell_type": "code",
   "execution_count": 23,
   "id": "aeb2b777",
   "metadata": {},
   "outputs": [],
   "source": [
    "### Market-Cap Weighted- Tier 3\n",
    "\n",
    "def backtesting_data_df3(row, weight_list, i):  \n",
    "    \"\"\"\n",
    "    backtesting_data calculates value of a portfolio\n",
    "\n",
    "    :param row: dataframe to use\n",
    "    :param weight_list: list of list of weights quarterly\n",
    "    :param i: what round/row we are on\n",
    "    :return: value of portfolio\n",
    "    \"\"\"\n",
    "    m = 100\n",
    "    \n",
    "    ### id_num is the index column that numbers each row 1, 2, 3, ..... for purposes of rebalancing every quarter / ~90 days\n",
    "    if(row['id_num'][i] < 91):\n",
    "        m = 0\n",
    "    elif(row['id_num'][i] < 182):\n",
    "        m = 1\n",
    "    elif(row['id_num'][i] < 274):\n",
    "        m = 2\n",
    "    elif(row['id_num'][i] < 366):\n",
    "        m = 3\n",
    "    elif(row['id_num'][i] < 456):\n",
    "        m = 4\n",
    "    elif(row['id_num'][i] < 547):\n",
    "        m = 5\n",
    "    elif(row['id_num'][i] < 639):\n",
    "        m = 6\n",
    "    elif(row['id_num'][i] < 731):\n",
    "        m = 7\n",
    "    elif(row['id_num'][i] < 821):\n",
    "        m = 8\n",
    "    elif(row['id_num'][i] < 912):\n",
    "        m = 9\n",
    "    elif(row['id_num'][i] < 1004):\n",
    "        m = 10\n",
    "    elif(row['id_num'][i] < 1096):\n",
    "        m = 11\n",
    "    elif(row['id_num'][i] < 1187):\n",
    "        m = 12\n",
    "    elif(row['id_num'][i] < 1277):\n",
    "        m = 13\n",
    "    elif(row['id_num'][i] < 1369):\n",
    "        m = 14\n",
    "    elif(row['id_num'][i] < 1458):\n",
    "        m = 15\n",
    "    elif(row['id_num'][i] < 1548):\n",
    "        m = 16\n",
    "    elif(row['id_num'][i] < 1639):\n",
    "        m = 17\n",
    "    elif(row['id_num'][i] < 1731):\n",
    "        m = 18\n",
    "    else:\n",
    "        m = 19\n",
    "    \n",
    "\n",
    "    value = (row['BTC-USD'][i] * weight_list[m][0] + \n",
    "        row['ETH-USD'][i] * weight_list[m][1])\n",
    "        \n",
    "    return(value)"
   ]
  },
  {
   "cell_type": "markdown",
   "id": "69d12e84",
   "metadata": {},
   "source": [
    "## Creating empty dataframe and putting three tier's values into it"
   ]
  },
  {
   "cell_type": "code",
   "execution_count": 24,
   "id": "2a27c911",
   "metadata": {},
   "outputs": [
    {
     "name": "stderr",
     "output_type": "stream",
     "text": [
      "<ipython-input-24-803a36c93097>:10: SettingWithCopyWarning: \n",
      "A value is trying to be set on a copy of a slice from a DataFrame\n",
      "\n",
      "See the caveats in the documentation: https://pandas.pydata.org/pandas-docs/stable/user_guide/indexing.html#returning-a-view-versus-a-copy\n",
      "  df_final['Tier1 Daily Moves'][i] = backtesting_data_df1(df1, t1_list_of_list_of_weights, i)\n",
      "<ipython-input-24-803a36c93097>:13: SettingWithCopyWarning: \n",
      "A value is trying to be set on a copy of a slice from a DataFrame\n",
      "\n",
      "See the caveats in the documentation: https://pandas.pydata.org/pandas-docs/stable/user_guide/indexing.html#returning-a-view-versus-a-copy\n",
      "  df_final['Tier2 Daily Moves'][i] = backtesting_data_df2(df2, t2_list_of_list_of_weights, i)\n",
      "<ipython-input-24-803a36c93097>:16: SettingWithCopyWarning: \n",
      "A value is trying to be set on a copy of a slice from a DataFrame\n",
      "\n",
      "See the caveats in the documentation: https://pandas.pydata.org/pandas-docs/stable/user_guide/indexing.html#returning-a-view-versus-a-copy\n",
      "  df_final['Tier3 Daily Moves'][i] = backtesting_data_df3(df3, t3_list_of_list_of_weights, i)\n"
     ]
    }
   ],
   "source": [
    "df_final = pd.DataFrame()\n",
    "\n",
    "temp_df = pd.DataFrame(columns=['Tier1 Daily Moves', 'Tier2 Daily Moves', 'Tier3 Daily Moves'])\n",
    "df_final = df_final.join(temp_df, how=\"outer\")\n",
    "\n",
    "### have to add BTC-USD to initialize list to have values going back 5 years\n",
    "df_final['BTC-USD'] = df3['BTC-USD']\n",
    "\n",
    "for i in range(len(df1['DOT-USD'])):\n",
    "    df_final['Tier1 Daily Moves'][i] = backtesting_data_df1(df1, t1_list_of_list_of_weights, i)\n",
    "    \n",
    "for i in range(len(df2['SOL1-USD'])):\n",
    "    df_final['Tier2 Daily Moves'][i] = backtesting_data_df2(df2, t2_list_of_list_of_weights, i)\n",
    "    \n",
    "for i in range(len(df3['BTC-USD'])):\n",
    "    df_final['Tier3 Daily Moves'][i] = backtesting_data_df3(df3, t3_list_of_list_of_weights, i)\n"
   ]
  },
  {
   "cell_type": "markdown",
   "id": "105f0db5",
   "metadata": {},
   "source": [
    "## Daily returns of each tier going back 5 years"
   ]
  },
  {
   "cell_type": "code",
   "execution_count": 25,
   "id": "70f45d65",
   "metadata": {},
   "outputs": [],
   "source": [
    "df_final = df_final.drop('BTC-USD', 1)"
   ]
  },
  {
   "cell_type": "code",
   "execution_count": 26,
   "id": "c1eb9b9a",
   "metadata": {},
   "outputs": [
    {
     "name": "stdout",
     "output_type": "stream",
     "text": [
      "           Tier1 Daily Moves Tier2 Daily Moves Tier3 Daily Moves\n",
      "Date                                                            \n",
      "2016-12-31               0.0               0.0          0.003104\n",
      "2017-01-01               0.0               0.0          0.034421\n",
      "2017-01-02               0.0               0.0          0.022165\n",
      "2017-01-03               0.0               0.0           0.02083\n",
      "2017-01-04               0.0               0.0          0.101078\n",
      "...                      ...               ...               ...\n",
      "2021-12-27         -0.024515         -0.015252           -0.0042\n",
      "2021-12-28         -0.096642         -0.048511         -0.060306\n",
      "2021-12-29          -0.01822         -0.027174         -0.030435\n",
      "2021-12-30          0.030374           0.00806          0.017001\n",
      "2021-12-31          0.005392          0.002748         -0.015416\n",
      "\n",
      "[1827 rows x 3 columns]\n"
     ]
    }
   ],
   "source": [
    "print(df_final)"
   ]
  },
  {
   "cell_type": "markdown",
   "id": "665d1dfc",
   "metadata": {},
   "source": [
    "## Calculating daily returns of index based on weighted tiers\n",
    "Tiers 1 and 2 don't have any existing constituents in first year or two, need to correctly weight index"
   ]
  },
  {
   "cell_type": "code",
   "execution_count": 27,
   "id": "098de3ab",
   "metadata": {},
   "outputs": [
    {
     "name": "stdout",
     "output_type": "stream",
     "text": [
      "           Tier1 Daily Moves Tier2 Daily Moves Tier3 Daily Moves  \\\n",
      "Date                                                               \n",
      "2016-12-31               0.0               0.0          0.003104   \n",
      "2017-01-01               0.0               0.0          0.034421   \n",
      "2017-01-02               0.0               0.0          0.022165   \n",
      "2017-01-03               0.0               0.0           0.02083   \n",
      "2017-01-04               0.0               0.0          0.101078   \n",
      "...                      ...               ...               ...   \n",
      "2021-12-27         -0.024515         -0.015252           -0.0042   \n",
      "2021-12-28         -0.096642         -0.048511         -0.060306   \n",
      "2021-12-29          -0.01822         -0.027174         -0.030435   \n",
      "2021-12-30          0.030374           0.00806          0.017001   \n",
      "2021-12-31          0.005392          0.002748         -0.015416   \n",
      "\n",
      "           Index Daily Returns  \n",
      "Date                            \n",
      "2016-12-31            0.003104  \n",
      "2017-01-01            0.034421  \n",
      "2017-01-02            0.022165  \n",
      "2017-01-03             0.02083  \n",
      "2017-01-04            0.101078  \n",
      "...                        ...  \n",
      "2021-12-27           -0.018778  \n",
      "2021-12-28           -0.073756  \n",
      "2021-12-29           -0.023023  \n",
      "2021-12-30            0.020111  \n",
      "2021-12-31            0.002253  \n",
      "\n",
      "[1827 rows x 4 columns]\n"
     ]
    }
   ],
   "source": [
    "### weight for each tier in the index\n",
    "tier1_weight = 0.5\n",
    "tier2_weight = 0.4\n",
    "tier3_weight = 0.1\n",
    "\n",
    "temporary_df = pd.DataFrame(columns=['Index Daily Returns'])\n",
    "df_final = df_final.join(temporary_df, how=\"outer\")\n",
    "\n",
    "for i in range(len(df_final['Tier3 Daily Moves'])):\n",
    "    if(df_final['Tier1 Daily Moves'][i] == 0 and (df_final['Tier2 Daily Moves'][i] == 0)):\n",
    "        df_final['Index Daily Returns'][i] = df_final['Tier3 Daily Moves'][i]\n",
    "    elif(df_final['Tier1 Daily Moves'][i] == 0 and df_final['Tier2 Daily Moves'][i] != 0):\n",
    "        df_final['Index Daily Returns'][i] = df_final['Tier2 Daily Moves'][i]*0.65 + df_final['Tier3 Daily Moves'][i]*0.35\n",
    "    else:\n",
    "        df_final['Index Daily Returns'][i] = df_final['Tier1 Daily Moves'][i]*tier1_weight + df_final['Tier2 Daily Moves'][i]*tier2_weight + df_final['Tier3 Daily Moves'][i]*tier3_weight\n",
    "\n",
    "print(df_final)\n",
    "    "
   ]
  },
  {
   "cell_type": "markdown",
   "id": "d0813cb2",
   "metadata": {},
   "source": [
    "##### Notice Index Daily Returns are same as Tier 3 Daily Moves in first few days-> due to Tier3 being the only tier with coins that existed in 2016 (BTC and ETH) and the index had 100% on tier3 then"
   ]
  },
  {
   "cell_type": "markdown",
   "id": "f29490cd",
   "metadata": {},
   "source": [
    "## Creating new column Adjusted Returns (adding 1 to Index Daily Returns)"
   ]
  },
  {
   "cell_type": "code",
   "execution_count": 28,
   "id": "583d8297-8b8e-424b-8781-a6bf9f4cf053",
   "metadata": {
    "tags": []
   },
   "outputs": [],
   "source": [
    "df_temp = pd.DataFrame(columns=['Adjusted Returns'])\n",
    "df_final = df_final.join(df_temp, how=\"outer\")"
   ]
  },
  {
   "cell_type": "code",
   "execution_count": 29,
   "id": "f00d0d3a-cd5e-4616-bcb6-3828f73a1a33",
   "metadata": {
    "tags": []
   },
   "outputs": [
    {
     "name": "stdout",
     "output_type": "stream",
     "text": [
      "           Tier1 Daily Moves Tier2 Daily Moves Tier3 Daily Moves  \\\n",
      "Date                                                               \n",
      "2016-12-31               0.0               0.0          0.003104   \n",
      "2017-01-01               0.0               0.0          0.034421   \n",
      "2017-01-02               0.0               0.0          0.022165   \n",
      "2017-01-03               0.0               0.0           0.02083   \n",
      "2017-01-04               0.0               0.0          0.101078   \n",
      "...                      ...               ...               ...   \n",
      "2021-12-27         -0.024515         -0.015252           -0.0042   \n",
      "2021-12-28         -0.096642         -0.048511         -0.060306   \n",
      "2021-12-29          -0.01822         -0.027174         -0.030435   \n",
      "2021-12-30          0.030374           0.00806          0.017001   \n",
      "2021-12-31          0.005392          0.002748         -0.015416   \n",
      "\n",
      "           Index Daily Returns Adjusted Returns  \n",
      "Date                                             \n",
      "2016-12-31            0.003104              NaN  \n",
      "2017-01-01            0.034421         1.034421  \n",
      "2017-01-02            0.022165         1.022165  \n",
      "2017-01-03             0.02083          1.02083  \n",
      "2017-01-04            0.101078         1.101078  \n",
      "...                        ...              ...  \n",
      "2021-12-27           -0.018778         0.981222  \n",
      "2021-12-28           -0.073756         0.926244  \n",
      "2021-12-29           -0.023023         0.976977  \n",
      "2021-12-30            0.020111         1.020111  \n",
      "2021-12-31            0.002253         1.002253  \n",
      "\n",
      "[1827 rows x 5 columns]\n"
     ]
    }
   ],
   "source": [
    "for q in range(1, len(df_final)):\n",
    "    df_final['Adjusted Returns'][q] = (df_final['Index Daily Returns'][q] + 1)\n",
    "print(df_final)"
   ]
  },
  {
   "cell_type": "markdown",
   "id": "89cdc059",
   "metadata": {},
   "source": [
    "## Creating new column and computing Actual Index Value\n",
    "Setting index value at inception to 100 and applying daily price moves over the 5 year period"
   ]
  },
  {
   "cell_type": "code",
   "execution_count": 30,
   "id": "b90015ba-a66c-45da-8c8e-5e24cf7d0fc2",
   "metadata": {
    "tags": []
   },
   "outputs": [],
   "source": [
    "df_temp = pd.DataFrame(columns=['Actual Index Value'])\n",
    "df_final = df_final.join(df_temp, how=\"outer\")"
   ]
  },
  {
   "cell_type": "code",
   "execution_count": 31,
   "id": "7ea200c8-241f-4a43-8528-b3cccc74432b",
   "metadata": {
    "tags": []
   },
   "outputs": [
    {
     "name": "stdout",
     "output_type": "stream",
     "text": [
      "           Tier1 Daily Moves Tier2 Daily Moves Tier3 Daily Moves  \\\n",
      "Date                                                               \n",
      "2016-12-31               0.0               0.0          0.003104   \n",
      "2017-01-01               0.0               0.0          0.034421   \n",
      "2017-01-02               0.0               0.0          0.022165   \n",
      "2017-01-03               0.0               0.0           0.02083   \n",
      "2017-01-04               0.0               0.0          0.101078   \n",
      "...                      ...               ...               ...   \n",
      "2021-12-27         -0.024515         -0.015252           -0.0042   \n",
      "2021-12-28         -0.096642         -0.048511         -0.060306   \n",
      "2021-12-29          -0.01822         -0.027174         -0.030435   \n",
      "2021-12-30          0.030374           0.00806          0.017001   \n",
      "2021-12-31          0.005392          0.002748         -0.015416   \n",
      "\n",
      "           Index Daily Returns Adjusted Returns Actual Index Value  \n",
      "Date                                                                \n",
      "2016-12-31            0.003104              NaN                100  \n",
      "2017-01-01            0.034421         1.034421         103.442113  \n",
      "2017-01-02            0.022165         1.022165         105.734891  \n",
      "2017-01-03             0.02083          1.02083          107.93733  \n",
      "2017-01-04            0.101078         1.101078         118.847464  \n",
      "...                        ...              ...                ...  \n",
      "2021-12-27           -0.018778         0.981222        9305.794195  \n",
      "2021-12-28           -0.073756         0.926244        8619.436479  \n",
      "2021-12-29           -0.023023         0.976977        8420.989177  \n",
      "2021-12-30            0.020111         1.020111        8590.342378  \n",
      "2021-12-31            0.002253         1.002253        8609.700477  \n",
      "\n",
      "[1827 rows x 6 columns]\n"
     ]
    }
   ],
   "source": [
    "### setting index value at inception to 100\n",
    "df_final['Actual Index Value'][0] = 100\n",
    "for i in range(1, len(df_final)):\n",
    "    df_final['Actual Index Value'][i] = df_final['Adjusted Returns'][i] * (df_final['Actual Index Value'][i - 1])\n",
    "print(df_final)"
   ]
  },
  {
   "cell_type": "code",
   "execution_count": 33,
   "id": "0888c8d7",
   "metadata": {
    "scrolled": true
   },
   "outputs": [
    {
     "data": {
      "text/plain": [
       "[<matplotlib.lines.Line2D at 0x28a7bb67f10>]"
      ]
     },
     "execution_count": 33,
     "metadata": {},
     "output_type": "execute_result"
    },
    {
     "data": {
      "image/png": "[encoded data removed]",
      "text/plain": [
       "<Figure size 1440x432 with 1 Axes>"
      ]
     },
     "metadata": {
      "needs_background": "light"
     },
     "output_type": "display_data"
    }
   ],
   "source": [
    "fig, axs = plt.subplots(figsize = (20,6)) # This is your answer to resize the figure\n",
    "\n",
    "# The below will help you expand on your question and resize individual elements within your figure. Experiement with the below parameters.\n",
    "axs.set_title(\"CUMULATIVE INDEX PERFORMANCE — RETURNS (USD)\", fontsize = 17.5)\n",
    "axs.tick_params(axis = 'x', labelsize = 14)\n",
    "axs.set_xlabel('', size = 15)\n",
    "axs.tick_params(axis = 'y', labelsize =14)\n",
    "axs.set_ylabel('', size = 15)\n",
    "\n",
    "plt.plot(df_final['Actual Index Value'], label = 'Index', c='y')"
   ]
  },
  {
   "cell_type": "markdown",
   "id": "c6fd80a5",
   "metadata": {},
   "source": [
    "## The below code vvv still has to be edited"
   ]
  },
  {
   "cell_type": "markdown",
   "id": "b6c65b4c",
   "metadata": {},
   "source": [
    "## Pulling data for our benchmark CMC200 and comparable indexes/assets"
   ]
  },
  {
   "cell_type": "code",
   "execution_count": 32,
   "id": "460d9262",
   "metadata": {
    "tags": []
   },
   "outputs": [
    {
     "name": "stdout",
     "output_type": "stream",
     "text": [
      "           Actual Index Value\n",
      "Date                         \n",
      "2016-12-31                100\n",
      "2017-01-01         103.442113\n",
      "2017-01-02         105.734891\n",
      "2017-01-03          107.93733\n",
      "2017-01-04         118.847464\n",
      "...                       ...\n",
      "2021-12-27        9305.794195\n",
      "2021-12-28        8619.436479\n",
      "2021-12-29        8420.989177\n",
      "2021-12-30        8590.342378\n",
      "2021-12-31        8609.700477\n",
      "\n",
      "[1827 rows x 1 columns]\n"
     ]
    }
   ],
   "source": [
    "tier_4 = ['^CMC200', '^GSPC', '^DJI', 'BTC-USD']\n",
    "\n",
    "#df_benchmark_temp = (reader.get_data_yahoo(tier_4, start, end)['Adj Close'] - reader.get_data_yahoo(tier_4, start, end)['Open']) / reader.get_data_yahoo(tier_4, start, end)['Open']\n",
    "\n",
    "df_benchmark = pd.DataFrame(df_final['Actual Index Value'])\n",
    "#df_benchmark = df_benchmark.join((reader.get_data_yahoo(tier_4, start, end)['Adj Close'] - reader.get_data_yahoo(tier_4, start, end)['Open']) / reader.get_data_yahoo(tier_4, start, end)['Open'], how=\"outer\")\n",
    "\n",
    "\n",
    "print(df_benchmark)"
   ]
  },
  {
   "cell_type": "markdown",
   "id": "189346f7",
   "metadata": {},
   "source": [
    "##### CMC200 starts in 2018-12-31, not 2016 like our index; in order to have a robust backtest, we will scale up its inception value (and thus all proceeding levels) to the value of our index at 2018-12-31"
   ]
  },
  {
   "cell_type": "code",
   "execution_count": 38,
   "id": "7c087e85",
   "metadata": {},
   "outputs": [
    {
     "name": "stdout",
     "output_type": "stream",
     "text": [
      "Index value at 2018-12-31 is: \n",
      " Tier1 Daily Moves            0.0\n",
      "Tier2 Daily Moves      -0.061372\n",
      "Tier3 Daily Moves      -0.035523\n",
      "Index Daily Returns    -0.052325\n",
      "Adjusted Returns        0.947675\n",
      "Actual Index Value     35.562374\n",
      "Name: 2018-12-31 00:00:00, dtype: object\n"
     ]
    }
   ],
   "source": [
    "print(\"Index value at 2018-12-31 is: \\n\", df_final.loc['2018-12-31'])"
   ]
  },
  {
   "cell_type": "code",
   "execution_count": 39,
   "id": "dfa50e08",
   "metadata": {},
   "outputs": [
    {
     "data": {
      "text/plain": [
       "(0, 4)"
      ]
     },
     "execution_count": 39,
     "metadata": {},
     "output_type": "execute_result"
    }
   ],
   "source": [
    "### finding the index of the row where CMC200 starts\n",
    "df_benchmark[df_benchmark['^CMC200'] == \"Nan\"].shape"
   ]
  },
  {
   "cell_type": "code",
   "execution_count": 326,
   "id": "9e3fd818",
   "metadata": {},
   "outputs": [
    {
     "ename": "IndexError",
     "evalue": "positional indexers are out-of-bounds",
     "output_type": "error",
     "traceback": [
      "\u001b[1;31m---------------------------------------------------------------------------\u001b[0m",
      "\u001b[1;31mIndexError\u001b[0m                                Traceback (most recent call last)",
      "\u001b[1;32m~\\anaconda3\\lib\\site-packages\\pandas\\core\\indexing.py\u001b[0m in \u001b[0;36m_get_list_axis\u001b[1;34m(self, key, axis)\u001b[0m\n\u001b[0;32m   1473\u001b[0m         \u001b[1;32mtry\u001b[0m\u001b[1;33m:\u001b[0m\u001b[1;33m\u001b[0m\u001b[1;33m\u001b[0m\u001b[0m\n\u001b[1;32m-> 1474\u001b[1;33m             \u001b[1;32mreturn\u001b[0m \u001b[0mself\u001b[0m\u001b[1;33m.\u001b[0m\u001b[0mobj\u001b[0m\u001b[1;33m.\u001b[0m\u001b[0m_take_with_is_copy\u001b[0m\u001b[1;33m(\u001b[0m\u001b[0mkey\u001b[0m\u001b[1;33m,\u001b[0m \u001b[0maxis\u001b[0m\u001b[1;33m=\u001b[0m\u001b[0maxis\u001b[0m\u001b[1;33m)\u001b[0m\u001b[1;33m\u001b[0m\u001b[1;33m\u001b[0m\u001b[0m\n\u001b[0m\u001b[0;32m   1475\u001b[0m         \u001b[1;32mexcept\u001b[0m \u001b[0mIndexError\u001b[0m \u001b[1;32mas\u001b[0m \u001b[0merr\u001b[0m\u001b[1;33m:\u001b[0m\u001b[1;33m\u001b[0m\u001b[1;33m\u001b[0m\u001b[0m\n",
      "\u001b[1;32m~\\anaconda3\\lib\\site-packages\\pandas\\core\\generic.py\u001b[0m in \u001b[0;36m_take_with_is_copy\u001b[1;34m(self, indices, axis)\u001b[0m\n\u001b[0;32m   3599\u001b[0m         \"\"\"\n\u001b[1;32m-> 3600\u001b[1;33m         \u001b[0mresult\u001b[0m \u001b[1;33m=\u001b[0m \u001b[0mself\u001b[0m\u001b[1;33m.\u001b[0m\u001b[0mtake\u001b[0m\u001b[1;33m(\u001b[0m\u001b[0mindices\u001b[0m\u001b[1;33m=\u001b[0m\u001b[0mindices\u001b[0m\u001b[1;33m,\u001b[0m \u001b[0maxis\u001b[0m\u001b[1;33m=\u001b[0m\u001b[0maxis\u001b[0m\u001b[1;33m)\u001b[0m\u001b[1;33m\u001b[0m\u001b[1;33m\u001b[0m\u001b[0m\n\u001b[0m\u001b[0;32m   3601\u001b[0m         \u001b[1;31m# Maybe set copy if we didn't actually change the index.\u001b[0m\u001b[1;33m\u001b[0m\u001b[1;33m\u001b[0m\u001b[1;33m\u001b[0m\u001b[0m\n",
      "\u001b[1;32m~\\anaconda3\\lib\\site-packages\\pandas\\core\\generic.py\u001b[0m in \u001b[0;36mtake\u001b[1;34m(self, indices, axis, is_copy, **kwargs)\u001b[0m\n\u001b[0;32m   3585\u001b[0m \u001b[1;33m\u001b[0m\u001b[0m\n\u001b[1;32m-> 3586\u001b[1;33m         new_data = self._mgr.take(\n\u001b[0m\u001b[0;32m   3587\u001b[0m             \u001b[0mindices\u001b[0m\u001b[1;33m,\u001b[0m \u001b[0maxis\u001b[0m\u001b[1;33m=\u001b[0m\u001b[0mself\u001b[0m\u001b[1;33m.\u001b[0m\u001b[0m_get_block_manager_axis\u001b[0m\u001b[1;33m(\u001b[0m\u001b[0maxis\u001b[0m\u001b[1;33m)\u001b[0m\u001b[1;33m,\u001b[0m \u001b[0mverify\u001b[0m\u001b[1;33m=\u001b[0m\u001b[1;32mTrue\u001b[0m\u001b[1;33m\u001b[0m\u001b[1;33m\u001b[0m\u001b[0m\n",
      "\u001b[1;32m~\\anaconda3\\lib\\site-packages\\pandas\\core\\internals\\managers.py\u001b[0m in \u001b[0;36mtake\u001b[1;34m(self, indexer, axis, verify, convert)\u001b[0m\n\u001b[0;32m   1466\u001b[0m         \u001b[1;32mif\u001b[0m \u001b[0mconvert\u001b[0m\u001b[1;33m:\u001b[0m\u001b[1;33m\u001b[0m\u001b[1;33m\u001b[0m\u001b[0m\n\u001b[1;32m-> 1467\u001b[1;33m             \u001b[0mindexer\u001b[0m \u001b[1;33m=\u001b[0m \u001b[0mmaybe_convert_indices\u001b[0m\u001b[1;33m(\u001b[0m\u001b[0mindexer\u001b[0m\u001b[1;33m,\u001b[0m \u001b[0mn\u001b[0m\u001b[1;33m)\u001b[0m\u001b[1;33m\u001b[0m\u001b[1;33m\u001b[0m\u001b[0m\n\u001b[0m\u001b[0;32m   1468\u001b[0m \u001b[1;33m\u001b[0m\u001b[0m\n",
      "\u001b[1;32m~\\anaconda3\\lib\\site-packages\\pandas\\core\\indexers.py\u001b[0m in \u001b[0;36mmaybe_convert_indices\u001b[1;34m(indices, n)\u001b[0m\n\u001b[0;32m    264\u001b[0m     \u001b[1;32mif\u001b[0m \u001b[0mmask\u001b[0m\u001b[1;33m.\u001b[0m\u001b[0many\u001b[0m\u001b[1;33m(\u001b[0m\u001b[1;33m)\u001b[0m\u001b[1;33m:\u001b[0m\u001b[1;33m\u001b[0m\u001b[1;33m\u001b[0m\u001b[0m\n\u001b[1;32m--> 265\u001b[1;33m         \u001b[1;32mraise\u001b[0m \u001b[0mIndexError\u001b[0m\u001b[1;33m(\u001b[0m\u001b[1;34m\"indices are out-of-bounds\"\u001b[0m\u001b[1;33m)\u001b[0m\u001b[1;33m\u001b[0m\u001b[1;33m\u001b[0m\u001b[0m\n\u001b[0m\u001b[0;32m    266\u001b[0m     \u001b[1;32mreturn\u001b[0m \u001b[0mindices\u001b[0m\u001b[1;33m\u001b[0m\u001b[1;33m\u001b[0m\u001b[0m\n",
      "\u001b[1;31mIndexError\u001b[0m: indices are out-of-bounds",
      "\nThe above exception was the direct cause of the following exception:\n",
      "\u001b[1;31mIndexError\u001b[0m                                Traceback (most recent call last)",
      "\u001b[1;32m<ipython-input-326-42ba30414312>\u001b[0m in \u001b[0;36m<module>\u001b[1;34m\u001b[0m\n\u001b[1;32m----> 1\u001b[1;33m \u001b[0mprint\u001b[0m\u001b[1;33m(\u001b[0m\u001b[0mdf_benchmark\u001b[0m\u001b[1;33m.\u001b[0m\u001b[0miloc\u001b[0m\u001b[1;33m[\u001b[0m\u001b[1;33m[\u001b[0m\u001b[1;36m1815\u001b[0m\u001b[1;33m]\u001b[0m\u001b[1;33m]\u001b[0m\u001b[1;33m)\u001b[0m\u001b[1;33m\u001b[0m\u001b[1;33m\u001b[0m\u001b[0m\n\u001b[0m",
      "\u001b[1;32m~\\anaconda3\\lib\\site-packages\\pandas\\core\\indexing.py\u001b[0m in \u001b[0;36m__getitem__\u001b[1;34m(self, key)\u001b[0m\n\u001b[0;32m    893\u001b[0m \u001b[1;33m\u001b[0m\u001b[0m\n\u001b[0;32m    894\u001b[0m             \u001b[0mmaybe_callable\u001b[0m \u001b[1;33m=\u001b[0m \u001b[0mcom\u001b[0m\u001b[1;33m.\u001b[0m\u001b[0mapply_if_callable\u001b[0m\u001b[1;33m(\u001b[0m\u001b[0mkey\u001b[0m\u001b[1;33m,\u001b[0m \u001b[0mself\u001b[0m\u001b[1;33m.\u001b[0m\u001b[0mobj\u001b[0m\u001b[1;33m)\u001b[0m\u001b[1;33m\u001b[0m\u001b[1;33m\u001b[0m\u001b[0m\n\u001b[1;32m--> 895\u001b[1;33m             \u001b[1;32mreturn\u001b[0m \u001b[0mself\u001b[0m\u001b[1;33m.\u001b[0m\u001b[0m_getitem_axis\u001b[0m\u001b[1;33m(\u001b[0m\u001b[0mmaybe_callable\u001b[0m\u001b[1;33m,\u001b[0m \u001b[0maxis\u001b[0m\u001b[1;33m=\u001b[0m\u001b[0maxis\u001b[0m\u001b[1;33m)\u001b[0m\u001b[1;33m\u001b[0m\u001b[1;33m\u001b[0m\u001b[0m\n\u001b[0m\u001b[0;32m    896\u001b[0m \u001b[1;33m\u001b[0m\u001b[0m\n\u001b[0;32m    897\u001b[0m     \u001b[1;32mdef\u001b[0m \u001b[0m_is_scalar_access\u001b[0m\u001b[1;33m(\u001b[0m\u001b[0mself\u001b[0m\u001b[1;33m,\u001b[0m \u001b[0mkey\u001b[0m\u001b[1;33m:\u001b[0m \u001b[0mTuple\u001b[0m\u001b[1;33m)\u001b[0m\u001b[1;33m:\u001b[0m\u001b[1;33m\u001b[0m\u001b[1;33m\u001b[0m\u001b[0m\n",
      "\u001b[1;32m~\\anaconda3\\lib\\site-packages\\pandas\\core\\indexing.py\u001b[0m in \u001b[0;36m_getitem_axis\u001b[1;34m(self, key, axis)\u001b[0m\n\u001b[0;32m   1490\u001b[0m         \u001b[1;31m# a list of integers\u001b[0m\u001b[1;33m\u001b[0m\u001b[1;33m\u001b[0m\u001b[1;33m\u001b[0m\u001b[0m\n\u001b[0;32m   1491\u001b[0m         \u001b[1;32melif\u001b[0m \u001b[0mis_list_like_indexer\u001b[0m\u001b[1;33m(\u001b[0m\u001b[0mkey\u001b[0m\u001b[1;33m)\u001b[0m\u001b[1;33m:\u001b[0m\u001b[1;33m\u001b[0m\u001b[1;33m\u001b[0m\u001b[0m\n\u001b[1;32m-> 1492\u001b[1;33m             \u001b[1;32mreturn\u001b[0m \u001b[0mself\u001b[0m\u001b[1;33m.\u001b[0m\u001b[0m_get_list_axis\u001b[0m\u001b[1;33m(\u001b[0m\u001b[0mkey\u001b[0m\u001b[1;33m,\u001b[0m \u001b[0maxis\u001b[0m\u001b[1;33m=\u001b[0m\u001b[0maxis\u001b[0m\u001b[1;33m)\u001b[0m\u001b[1;33m\u001b[0m\u001b[1;33m\u001b[0m\u001b[0m\n\u001b[0m\u001b[0;32m   1493\u001b[0m \u001b[1;33m\u001b[0m\u001b[0m\n\u001b[0;32m   1494\u001b[0m         \u001b[1;31m# a single integer\u001b[0m\u001b[1;33m\u001b[0m\u001b[1;33m\u001b[0m\u001b[1;33m\u001b[0m\u001b[0m\n",
      "\u001b[1;32m~\\anaconda3\\lib\\site-packages\\pandas\\core\\indexing.py\u001b[0m in \u001b[0;36m_get_list_axis\u001b[1;34m(self, key, axis)\u001b[0m\n\u001b[0;32m   1475\u001b[0m         \u001b[1;32mexcept\u001b[0m \u001b[0mIndexError\u001b[0m \u001b[1;32mas\u001b[0m \u001b[0merr\u001b[0m\u001b[1;33m:\u001b[0m\u001b[1;33m\u001b[0m\u001b[1;33m\u001b[0m\u001b[0m\n\u001b[0;32m   1476\u001b[0m             \u001b[1;31m# re-raise with different error message\u001b[0m\u001b[1;33m\u001b[0m\u001b[1;33m\u001b[0m\u001b[1;33m\u001b[0m\u001b[0m\n\u001b[1;32m-> 1477\u001b[1;33m             \u001b[1;32mraise\u001b[0m \u001b[0mIndexError\u001b[0m\u001b[1;33m(\u001b[0m\u001b[1;34m\"positional indexers are out-of-bounds\"\u001b[0m\u001b[1;33m)\u001b[0m \u001b[1;32mfrom\u001b[0m \u001b[0merr\u001b[0m\u001b[1;33m\u001b[0m\u001b[1;33m\u001b[0m\u001b[0m\n\u001b[0m\u001b[0;32m   1478\u001b[0m \u001b[1;33m\u001b[0m\u001b[0m\n\u001b[0;32m   1479\u001b[0m     \u001b[1;32mdef\u001b[0m \u001b[0m_getitem_axis\u001b[0m\u001b[1;33m(\u001b[0m\u001b[0mself\u001b[0m\u001b[1;33m,\u001b[0m \u001b[0mkey\u001b[0m\u001b[1;33m,\u001b[0m \u001b[0maxis\u001b[0m\u001b[1;33m:\u001b[0m \u001b[0mint\u001b[0m\u001b[1;33m)\u001b[0m\u001b[1;33m:\u001b[0m\u001b[1;33m\u001b[0m\u001b[1;33m\u001b[0m\u001b[0m\n",
      "\u001b[1;31mIndexError\u001b[0m: positional indexers are out-of-bounds"
     ]
    }
   ],
   "source": [
    "print(df_benchmark.iloc[[1815]])"
   ]
  },
  {
   "cell_type": "markdown",
   "id": "8dbd7b3a",
   "metadata": {},
   "source": [
    "## Adding 1 to all values in df_benchmark for adjusted returns"
   ]
  },
  {
   "cell_type": "code",
   "execution_count": null,
   "id": "31394900",
   "metadata": {},
   "outputs": [],
   "source": [
    "df_benchmark += 1"
   ]
  },
  {
   "cell_type": "code",
   "execution_count": 283,
   "id": "362d286f",
   "metadata": {},
   "outputs": [
    {
     "ename": "TypeError",
     "evalue": "cannot do slice indexing on DatetimeIndex with these indexers [^GSPC] of type str",
     "output_type": "error",
     "traceback": [
      "\u001b[1;31m---------------------------------------------------------------------------\u001b[0m",
      "\u001b[1;31mValueError\u001b[0m                                Traceback (most recent call last)",
      "\u001b[1;32mpandas\\_libs\\tslibs\\parsing.pyx\u001b[0m in \u001b[0;36mpandas._libs.tslibs.parsing.parse_datetime_string_with_reso\u001b[1;34m()\u001b[0m\n",
      "\u001b[1;32mpandas\\_libs\\tslibs\\parsing.pyx\u001b[0m in \u001b[0;36mpandas._libs.tslibs.parsing.dateutil_parse\u001b[1;34m()\u001b[0m\n",
      "\u001b[1;31mValueError\u001b[0m: Unknown datetime string format, unable to parse: ^GSPC",
      "\nDuring handling of the above exception, another exception occurred:\n",
      "\u001b[1;31mDateParseError\u001b[0m                            Traceback (most recent call last)",
      "\u001b[1;32m~\\anaconda3\\lib\\site-packages\\pandas\\core\\indexes\\datetimes.py\u001b[0m in \u001b[0;36m_maybe_cast_slice_bound\u001b[1;34m(self, label, side, kind)\u001b[0m\n\u001b[0;32m    721\u001b[0m             \u001b[1;32mtry\u001b[0m\u001b[1;33m:\u001b[0m\u001b[1;33m\u001b[0m\u001b[1;33m\u001b[0m\u001b[0m\n\u001b[1;32m--> 722\u001b[1;33m                 \u001b[0mparsed\u001b[0m\u001b[1;33m,\u001b[0m \u001b[0mreso\u001b[0m \u001b[1;33m=\u001b[0m \u001b[0mparsing\u001b[0m\u001b[1;33m.\u001b[0m\u001b[0mparse_time_string\u001b[0m\u001b[1;33m(\u001b[0m\u001b[0mlabel\u001b[0m\u001b[1;33m,\u001b[0m \u001b[0mfreq\u001b[0m\u001b[1;33m)\u001b[0m\u001b[1;33m\u001b[0m\u001b[1;33m\u001b[0m\u001b[0m\n\u001b[0m\u001b[0;32m    723\u001b[0m             \u001b[1;32mexcept\u001b[0m \u001b[0mparsing\u001b[0m\u001b[1;33m.\u001b[0m\u001b[0mDateParseError\u001b[0m \u001b[1;32mas\u001b[0m \u001b[0merr\u001b[0m\u001b[1;33m:\u001b[0m\u001b[1;33m\u001b[0m\u001b[1;33m\u001b[0m\u001b[0m\n",
      "\u001b[1;32mpandas\\_libs\\tslibs\\parsing.pyx\u001b[0m in \u001b[0;36mpandas._libs.tslibs.parsing.parse_time_string\u001b[1;34m()\u001b[0m\n",
      "\u001b[1;32mpandas\\_libs\\tslibs\\parsing.pyx\u001b[0m in \u001b[0;36mpandas._libs.tslibs.parsing.parse_datetime_string_with_reso\u001b[1;34m()\u001b[0m\n",
      "\u001b[1;31mDateParseError\u001b[0m: Unknown datetime string format, unable to parse: ^GSPC",
      "\nThe above exception was the direct cause of the following exception:\n",
      "\u001b[1;31mTypeError\u001b[0m                                 Traceback (most recent call last)",
      "\u001b[1;32m<ipython-input-283-cbfbb2f15661>\u001b[0m in \u001b[0;36m<module>\u001b[1;34m\u001b[0m\n\u001b[0;32m      1\u001b[0m \u001b[1;31m# df_benchmark += 1\u001b[0m\u001b[1;33m\u001b[0m\u001b[1;33m\u001b[0m\u001b[1;33m\u001b[0m\u001b[0m\n\u001b[1;32m----> 2\u001b[1;33m \u001b[0mdf_benchmark\u001b[0m\u001b[1;33m[\u001b[0m\u001b[1;34m'^GSPC'\u001b[0m\u001b[1;33m:\u001b[0m\u001b[1;34m'BTC-USD'\u001b[0m\u001b[1;33m]\u001b[0m\u001b[1;33m.\u001b[0m\u001b[0mfillna\u001b[0m\u001b[1;33m(\u001b[0m\u001b[1;36m0\u001b[0m\u001b[1;33m)\u001b[0m\u001b[1;33m\u001b[0m\u001b[1;33m\u001b[0m\u001b[0m\n\u001b[0m\u001b[0;32m      3\u001b[0m \u001b[0mprint\u001b[0m\u001b[1;33m(\u001b[0m\u001b[0mdf_benchmark\u001b[0m\u001b[1;33m)\u001b[0m\u001b[1;33m\u001b[0m\u001b[1;33m\u001b[0m\u001b[0m\n",
      "\u001b[1;32m~\\anaconda3\\lib\\site-packages\\pandas\\core\\frame.py\u001b[0m in \u001b[0;36m__getitem__\u001b[1;34m(self, key)\u001b[0m\n\u001b[0;32m   2997\u001b[0m \u001b[1;33m\u001b[0m\u001b[0m\n\u001b[0;32m   2998\u001b[0m         \u001b[1;31m# Do we have a slicer (on rows)?\u001b[0m\u001b[1;33m\u001b[0m\u001b[1;33m\u001b[0m\u001b[1;33m\u001b[0m\u001b[0m\n\u001b[1;32m-> 2999\u001b[1;33m         \u001b[0mindexer\u001b[0m \u001b[1;33m=\u001b[0m \u001b[0mconvert_to_index_sliceable\u001b[0m\u001b[1;33m(\u001b[0m\u001b[0mself\u001b[0m\u001b[1;33m,\u001b[0m \u001b[0mkey\u001b[0m\u001b[1;33m)\u001b[0m\u001b[1;33m\u001b[0m\u001b[1;33m\u001b[0m\u001b[0m\n\u001b[0m\u001b[0;32m   3000\u001b[0m         \u001b[1;32mif\u001b[0m \u001b[0mindexer\u001b[0m \u001b[1;32mis\u001b[0m \u001b[1;32mnot\u001b[0m \u001b[1;32mNone\u001b[0m\u001b[1;33m:\u001b[0m\u001b[1;33m\u001b[0m\u001b[1;33m\u001b[0m\u001b[0m\n\u001b[0;32m   3001\u001b[0m             \u001b[1;32mif\u001b[0m \u001b[0misinstance\u001b[0m\u001b[1;33m(\u001b[0m\u001b[0mindexer\u001b[0m\u001b[1;33m,\u001b[0m \u001b[0mnp\u001b[0m\u001b[1;33m.\u001b[0m\u001b[0mndarray\u001b[0m\u001b[1;33m)\u001b[0m\u001b[1;33m:\u001b[0m\u001b[1;33m\u001b[0m\u001b[1;33m\u001b[0m\u001b[0m\n",
      "\u001b[1;32m~\\anaconda3\\lib\\site-packages\\pandas\\core\\indexing.py\u001b[0m in \u001b[0;36mconvert_to_index_sliceable\u001b[1;34m(obj, key)\u001b[0m\n\u001b[0;32m   2208\u001b[0m     \u001b[0midx\u001b[0m \u001b[1;33m=\u001b[0m \u001b[0mobj\u001b[0m\u001b[1;33m.\u001b[0m\u001b[0mindex\u001b[0m\u001b[1;33m\u001b[0m\u001b[1;33m\u001b[0m\u001b[0m\n\u001b[0;32m   2209\u001b[0m     \u001b[1;32mif\u001b[0m \u001b[0misinstance\u001b[0m\u001b[1;33m(\u001b[0m\u001b[0mkey\u001b[0m\u001b[1;33m,\u001b[0m \u001b[0mslice\u001b[0m\u001b[1;33m)\u001b[0m\u001b[1;33m:\u001b[0m\u001b[1;33m\u001b[0m\u001b[1;33m\u001b[0m\u001b[0m\n\u001b[1;32m-> 2210\u001b[1;33m         \u001b[1;32mreturn\u001b[0m \u001b[0midx\u001b[0m\u001b[1;33m.\u001b[0m\u001b[0m_convert_slice_indexer\u001b[0m\u001b[1;33m(\u001b[0m\u001b[0mkey\u001b[0m\u001b[1;33m,\u001b[0m \u001b[0mkind\u001b[0m\u001b[1;33m=\u001b[0m\u001b[1;34m\"getitem\"\u001b[0m\u001b[1;33m)\u001b[0m\u001b[1;33m\u001b[0m\u001b[1;33m\u001b[0m\u001b[0m\n\u001b[0m\u001b[0;32m   2211\u001b[0m \u001b[1;33m\u001b[0m\u001b[0m\n\u001b[0;32m   2212\u001b[0m     \u001b[1;32melif\u001b[0m \u001b[0misinstance\u001b[0m\u001b[1;33m(\u001b[0m\u001b[0mkey\u001b[0m\u001b[1;33m,\u001b[0m \u001b[0mstr\u001b[0m\u001b[1;33m)\u001b[0m\u001b[1;33m:\u001b[0m\u001b[1;33m\u001b[0m\u001b[1;33m\u001b[0m\u001b[0m\n",
      "\u001b[1;32m~\\anaconda3\\lib\\site-packages\\pandas\\core\\indexes\\base.py\u001b[0m in \u001b[0;36m_convert_slice_indexer\u001b[1;34m(self, key, kind)\u001b[0m\n\u001b[0;32m   3388\u001b[0m             \u001b[0mindexer\u001b[0m \u001b[1;33m=\u001b[0m \u001b[0mkey\u001b[0m\u001b[1;33m\u001b[0m\u001b[1;33m\u001b[0m\u001b[0m\n\u001b[0;32m   3389\u001b[0m         \u001b[1;32melse\u001b[0m\u001b[1;33m:\u001b[0m\u001b[1;33m\u001b[0m\u001b[1;33m\u001b[0m\u001b[0m\n\u001b[1;32m-> 3390\u001b[1;33m             \u001b[0mindexer\u001b[0m \u001b[1;33m=\u001b[0m \u001b[0mself\u001b[0m\u001b[1;33m.\u001b[0m\u001b[0mslice_indexer\u001b[0m\u001b[1;33m(\u001b[0m\u001b[0mstart\u001b[0m\u001b[1;33m,\u001b[0m \u001b[0mstop\u001b[0m\u001b[1;33m,\u001b[0m \u001b[0mstep\u001b[0m\u001b[1;33m,\u001b[0m \u001b[0mkind\u001b[0m\u001b[1;33m=\u001b[0m\u001b[0mkind\u001b[0m\u001b[1;33m)\u001b[0m\u001b[1;33m\u001b[0m\u001b[1;33m\u001b[0m\u001b[0m\n\u001b[0m\u001b[0;32m   3391\u001b[0m \u001b[1;33m\u001b[0m\u001b[0m\n\u001b[0;32m   3392\u001b[0m         \u001b[1;32mreturn\u001b[0m \u001b[0mindexer\u001b[0m\u001b[1;33m\u001b[0m\u001b[1;33m\u001b[0m\u001b[0m\n",
      "\u001b[1;32m~\\anaconda3\\lib\\site-packages\\pandas\\core\\indexes\\datetimes.py\u001b[0m in \u001b[0;36mslice_indexer\u001b[1;34m(self, start, end, step, kind)\u001b[0m\n\u001b[0;32m    782\u001b[0m \u001b[1;33m\u001b[0m\u001b[0m\n\u001b[0;32m    783\u001b[0m         \u001b[1;32mtry\u001b[0m\u001b[1;33m:\u001b[0m\u001b[1;33m\u001b[0m\u001b[1;33m\u001b[0m\u001b[0m\n\u001b[1;32m--> 784\u001b[1;33m             \u001b[1;32mreturn\u001b[0m \u001b[0mIndex\u001b[0m\u001b[1;33m.\u001b[0m\u001b[0mslice_indexer\u001b[0m\u001b[1;33m(\u001b[0m\u001b[0mself\u001b[0m\u001b[1;33m,\u001b[0m \u001b[0mstart\u001b[0m\u001b[1;33m,\u001b[0m \u001b[0mend\u001b[0m\u001b[1;33m,\u001b[0m \u001b[0mstep\u001b[0m\u001b[1;33m,\u001b[0m \u001b[0mkind\u001b[0m\u001b[1;33m=\u001b[0m\u001b[0mkind\u001b[0m\u001b[1;33m)\u001b[0m\u001b[1;33m\u001b[0m\u001b[1;33m\u001b[0m\u001b[0m\n\u001b[0m\u001b[0;32m    785\u001b[0m         \u001b[1;32mexcept\u001b[0m \u001b[0mKeyError\u001b[0m\u001b[1;33m:\u001b[0m\u001b[1;33m\u001b[0m\u001b[1;33m\u001b[0m\u001b[0m\n\u001b[0;32m    786\u001b[0m             \u001b[1;31m# For historical reasons DatetimeIndex by default supports\u001b[0m\u001b[1;33m\u001b[0m\u001b[1;33m\u001b[0m\u001b[1;33m\u001b[0m\u001b[0m\n",
      "\u001b[1;32m~\\anaconda3\\lib\\site-packages\\pandas\\core\\indexes\\base.py\u001b[0m in \u001b[0;36mslice_indexer\u001b[1;34m(self, start, end, step, kind)\u001b[0m\n\u001b[0;32m   5275\u001b[0m         \u001b[0mslice\u001b[0m\u001b[1;33m(\u001b[0m\u001b[1;36m1\u001b[0m\u001b[1;33m,\u001b[0m \u001b[1;36m3\u001b[0m\u001b[1;33m,\u001b[0m \u001b[1;32mNone\u001b[0m\u001b[1;33m)\u001b[0m\u001b[1;33m\u001b[0m\u001b[1;33m\u001b[0m\u001b[0m\n\u001b[0;32m   5276\u001b[0m         \"\"\"\n\u001b[1;32m-> 5277\u001b[1;33m         \u001b[0mstart_slice\u001b[0m\u001b[1;33m,\u001b[0m \u001b[0mend_slice\u001b[0m \u001b[1;33m=\u001b[0m \u001b[0mself\u001b[0m\u001b[1;33m.\u001b[0m\u001b[0mslice_locs\u001b[0m\u001b[1;33m(\u001b[0m\u001b[0mstart\u001b[0m\u001b[1;33m,\u001b[0m \u001b[0mend\u001b[0m\u001b[1;33m,\u001b[0m \u001b[0mstep\u001b[0m\u001b[1;33m=\u001b[0m\u001b[0mstep\u001b[0m\u001b[1;33m,\u001b[0m \u001b[0mkind\u001b[0m\u001b[1;33m=\u001b[0m\u001b[0mkind\u001b[0m\u001b[1;33m)\u001b[0m\u001b[1;33m\u001b[0m\u001b[1;33m\u001b[0m\u001b[0m\n\u001b[0m\u001b[0;32m   5278\u001b[0m \u001b[1;33m\u001b[0m\u001b[0m\n\u001b[0;32m   5279\u001b[0m         \u001b[1;31m# return a slice\u001b[0m\u001b[1;33m\u001b[0m\u001b[1;33m\u001b[0m\u001b[1;33m\u001b[0m\u001b[0m\n",
      "\u001b[1;32m~\\anaconda3\\lib\\site-packages\\pandas\\core\\indexes\\base.py\u001b[0m in \u001b[0;36mslice_locs\u001b[1;34m(self, start, end, step, kind)\u001b[0m\n\u001b[0;32m   5474\u001b[0m         \u001b[0mstart_slice\u001b[0m \u001b[1;33m=\u001b[0m \u001b[1;32mNone\u001b[0m\u001b[1;33m\u001b[0m\u001b[1;33m\u001b[0m\u001b[0m\n\u001b[0;32m   5475\u001b[0m         \u001b[1;32mif\u001b[0m \u001b[0mstart\u001b[0m \u001b[1;32mis\u001b[0m \u001b[1;32mnot\u001b[0m \u001b[1;32mNone\u001b[0m\u001b[1;33m:\u001b[0m\u001b[1;33m\u001b[0m\u001b[1;33m\u001b[0m\u001b[0m\n\u001b[1;32m-> 5476\u001b[1;33m             \u001b[0mstart_slice\u001b[0m \u001b[1;33m=\u001b[0m \u001b[0mself\u001b[0m\u001b[1;33m.\u001b[0m\u001b[0mget_slice_bound\u001b[0m\u001b[1;33m(\u001b[0m\u001b[0mstart\u001b[0m\u001b[1;33m,\u001b[0m \u001b[1;34m\"left\"\u001b[0m\u001b[1;33m,\u001b[0m \u001b[0mkind\u001b[0m\u001b[1;33m)\u001b[0m\u001b[1;33m\u001b[0m\u001b[1;33m\u001b[0m\u001b[0m\n\u001b[0m\u001b[0;32m   5477\u001b[0m         \u001b[1;32mif\u001b[0m \u001b[0mstart_slice\u001b[0m \u001b[1;32mis\u001b[0m \u001b[1;32mNone\u001b[0m\u001b[1;33m:\u001b[0m\u001b[1;33m\u001b[0m\u001b[1;33m\u001b[0m\u001b[0m\n\u001b[0;32m   5478\u001b[0m             \u001b[0mstart_slice\u001b[0m \u001b[1;33m=\u001b[0m \u001b[1;36m0\u001b[0m\u001b[1;33m\u001b[0m\u001b[1;33m\u001b[0m\u001b[0m\n",
      "\u001b[1;32m~\\anaconda3\\lib\\site-packages\\pandas\\core\\indexes\\base.py\u001b[0m in \u001b[0;36mget_slice_bound\u001b[1;34m(self, label, side, kind)\u001b[0m\n\u001b[0;32m   5384\u001b[0m         \u001b[1;31m# For datetime indices label may be a string that has to be converted\u001b[0m\u001b[1;33m\u001b[0m\u001b[1;33m\u001b[0m\u001b[1;33m\u001b[0m\u001b[0m\n\u001b[0;32m   5385\u001b[0m         \u001b[1;31m# to datetime boundary according to its resolution.\u001b[0m\u001b[1;33m\u001b[0m\u001b[1;33m\u001b[0m\u001b[1;33m\u001b[0m\u001b[0m\n\u001b[1;32m-> 5386\u001b[1;33m         \u001b[0mlabel\u001b[0m \u001b[1;33m=\u001b[0m \u001b[0mself\u001b[0m\u001b[1;33m.\u001b[0m\u001b[0m_maybe_cast_slice_bound\u001b[0m\u001b[1;33m(\u001b[0m\u001b[0mlabel\u001b[0m\u001b[1;33m,\u001b[0m \u001b[0mside\u001b[0m\u001b[1;33m,\u001b[0m \u001b[0mkind\u001b[0m\u001b[1;33m)\u001b[0m\u001b[1;33m\u001b[0m\u001b[1;33m\u001b[0m\u001b[0m\n\u001b[0m\u001b[0;32m   5387\u001b[0m \u001b[1;33m\u001b[0m\u001b[0m\n\u001b[0;32m   5388\u001b[0m         \u001b[1;31m# we need to look up the label\u001b[0m\u001b[1;33m\u001b[0m\u001b[1;33m\u001b[0m\u001b[1;33m\u001b[0m\u001b[0m\n",
      "\u001b[1;32m~\\anaconda3\\lib\\site-packages\\pandas\\core\\indexes\\datetimes.py\u001b[0m in \u001b[0;36m_maybe_cast_slice_bound\u001b[1;34m(self, label, side, kind)\u001b[0m\n\u001b[0;32m    722\u001b[0m                 \u001b[0mparsed\u001b[0m\u001b[1;33m,\u001b[0m \u001b[0mreso\u001b[0m \u001b[1;33m=\u001b[0m \u001b[0mparsing\u001b[0m\u001b[1;33m.\u001b[0m\u001b[0mparse_time_string\u001b[0m\u001b[1;33m(\u001b[0m\u001b[0mlabel\u001b[0m\u001b[1;33m,\u001b[0m \u001b[0mfreq\u001b[0m\u001b[1;33m)\u001b[0m\u001b[1;33m\u001b[0m\u001b[1;33m\u001b[0m\u001b[0m\n\u001b[0;32m    723\u001b[0m             \u001b[1;32mexcept\u001b[0m \u001b[0mparsing\u001b[0m\u001b[1;33m.\u001b[0m\u001b[0mDateParseError\u001b[0m \u001b[1;32mas\u001b[0m \u001b[0merr\u001b[0m\u001b[1;33m:\u001b[0m\u001b[1;33m\u001b[0m\u001b[1;33m\u001b[0m\u001b[0m\n\u001b[1;32m--> 724\u001b[1;33m                 \u001b[1;32mraise\u001b[0m \u001b[0mself\u001b[0m\u001b[1;33m.\u001b[0m\u001b[0m_invalid_indexer\u001b[0m\u001b[1;33m(\u001b[0m\u001b[1;34m\"slice\"\u001b[0m\u001b[1;33m,\u001b[0m \u001b[0mlabel\u001b[0m\u001b[1;33m)\u001b[0m \u001b[1;32mfrom\u001b[0m \u001b[0merr\u001b[0m\u001b[1;33m\u001b[0m\u001b[1;33m\u001b[0m\u001b[0m\n\u001b[0m\u001b[0;32m    725\u001b[0m \u001b[1;33m\u001b[0m\u001b[0m\n\u001b[0;32m    726\u001b[0m             \u001b[0mreso\u001b[0m \u001b[1;33m=\u001b[0m \u001b[0mResolution\u001b[0m\u001b[1;33m.\u001b[0m\u001b[0mfrom_attrname\u001b[0m\u001b[1;33m(\u001b[0m\u001b[0mreso\u001b[0m\u001b[1;33m)\u001b[0m\u001b[1;33m\u001b[0m\u001b[1;33m\u001b[0m\u001b[0m\n",
      "\u001b[1;31mTypeError\u001b[0m: cannot do slice indexing on DatetimeIndex with these indexers [^GSPC] of type str"
     ]
    }
   ],
   "source": [
    "### fill in na values\n",
    "df_benchmark['^GSPC'].fillna(0)\n",
    "df_benchmark['^DJI'].fillna(0)\n",
    "df_benchmark['BTC-USD'].fillna(0)\n",
    "\n",
    "print(df_benchmark)"
   ]
  },
  {
   "cell_type": "code",
   "execution_count": 270,
   "id": "e75aa9f2-967f-4ef7-b53e-439471e5b6ac",
   "metadata": {
    "tags": []
   },
   "outputs": [],
   "source": [
    "df_temp2 = pd.DataFrame(columns=['^CMC200 Value', '^GSPC Value', '^DJI Value', 'BTC-USD Value'])\n",
    "df_benchmark = df_benchmark.join(df_temp2, how=\"outer\")"
   ]
  },
  {
   "cell_type": "code",
   "execution_count": 266,
   "id": "f4e60ec9-99bf-48df-8d1b-f92cf5c5091b",
   "metadata": {},
   "outputs": [
    {
     "name": "stderr",
     "output_type": "stream",
     "text": [
      "<ipython-input-266-21eddd7a7c0c>:2: SettingWithCopyWarning: \n",
      "A value is trying to be set on a copy of a slice from a DataFrame\n",
      "\n",
      "See the caveats in the documentation: https://pandas.pydata.org/pandas-docs/stable/user_guide/indexing.html#returning-a-view-versus-a-copy\n",
      "  df_benchmark['^CMC200 Value'][0] = 699.137174\n",
      "<ipython-input-266-21eddd7a7c0c>:3: SettingWithCopyWarning: \n",
      "A value is trying to be set on a copy of a slice from a DataFrame\n",
      "\n",
      "See the caveats in the documentation: https://pandas.pydata.org/pandas-docs/stable/user_guide/indexing.html#returning-a-view-versus-a-copy\n",
      "  df_benchmark['^GSPC Value'][0] = 100\n",
      "<ipython-input-266-21eddd7a7c0c>:4: SettingWithCopyWarning: \n",
      "A value is trying to be set on a copy of a slice from a DataFrame\n",
      "\n",
      "See the caveats in the documentation: https://pandas.pydata.org/pandas-docs/stable/user_guide/indexing.html#returning-a-view-versus-a-copy\n",
      "  df_benchmark['^DJI Value'][0] = 100\n",
      "<ipython-input-266-21eddd7a7c0c>:5: SettingWithCopyWarning: \n",
      "A value is trying to be set on a copy of a slice from a DataFrame\n",
      "\n",
      "See the caveats in the documentation: https://pandas.pydata.org/pandas-docs/stable/user_guide/indexing.html#returning-a-view-versus-a-copy\n",
      "  df_benchmark['BTC-USD Value'][0] = 100\n",
      "<ipython-input-266-21eddd7a7c0c>:6: SettingWithCopyWarning: \n",
      "A value is trying to be set on a copy of a slice from a DataFrame\n",
      "\n",
      "See the caveats in the documentation: https://pandas.pydata.org/pandas-docs/stable/user_guide/indexing.html#returning-a-view-versus-a-copy\n",
      "  df_benchmark['ETH-USD Value'][0] = 100\n",
      "<ipython-input-266-21eddd7a7c0c>:8: SettingWithCopyWarning: \n",
      "A value is trying to be set on a copy of a slice from a DataFrame\n",
      "\n",
      "See the caveats in the documentation: https://pandas.pydata.org/pandas-docs/stable/user_guide/indexing.html#returning-a-view-versus-a-copy\n",
      "  df_benchmark['^CMC200 Value'][i] = df_benchmark['^CMC200 Value'][i - 1] * (df_benchmark['^CMC200'][i])\n",
      "<ipython-input-266-21eddd7a7c0c>:9: SettingWithCopyWarning: \n",
      "A value is trying to be set on a copy of a slice from a DataFrame\n",
      "\n",
      "See the caveats in the documentation: https://pandas.pydata.org/pandas-docs/stable/user_guide/indexing.html#returning-a-view-versus-a-copy\n",
      "  df_benchmark['^GSPC Value'][i] = df_benchmark['^GSPC Value'][i - 1] * (df_benchmark['^GSPC'][i])\n",
      "<ipython-input-266-21eddd7a7c0c>:10: SettingWithCopyWarning: \n",
      "A value is trying to be set on a copy of a slice from a DataFrame\n",
      "\n",
      "See the caveats in the documentation: https://pandas.pydata.org/pandas-docs/stable/user_guide/indexing.html#returning-a-view-versus-a-copy\n",
      "  df_benchmark['^DJI Value'][i] = df_benchmark['^DJI Value'][i - 1] * (df_benchmark['^DJI'][i])\n",
      "<ipython-input-266-21eddd7a7c0c>:11: SettingWithCopyWarning: \n",
      "A value is trying to be set on a copy of a slice from a DataFrame\n",
      "\n",
      "See the caveats in the documentation: https://pandas.pydata.org/pandas-docs/stable/user_guide/indexing.html#returning-a-view-versus-a-copy\n",
      "  df_benchmark['BTC-USD Value'][i] = df_benchmark['BTC-USD Value'][i - 1] * (df_benchmark['BTC-USD'][i])\n",
      "<ipython-input-266-21eddd7a7c0c>:12: SettingWithCopyWarning: \n",
      "A value is trying to be set on a copy of a slice from a DataFrame\n",
      "\n",
      "See the caveats in the documentation: https://pandas.pydata.org/pandas-docs/stable/user_guide/indexing.html#returning-a-view-versus-a-copy\n",
      "  df_benchmark['ETH-USD Value'][i] = df_benchmark['ETH-USD Value'][i - 1] * (df_benchmark['ETH-USD'][i])\n"
     ]
    },
    {
     "name": "stdout",
     "output_type": "stream",
     "text": [
      "             ^CMC200     ^GSPC      ^DJI   BTC-USD   ETH-USD  \\\n",
      "Date                                                           \n",
      "2016-12-31  1.000000  1.000000  1.000000  1.003244  0.977666   \n",
      "2017-01-01  1.000000  1.000000  1.000000  1.035974  1.023835   \n",
      "2017-01-02  1.000000  1.000000  1.000000  1.023165  1.025412   \n",
      "2017-01-03  1.000000  1.002780  1.000448  1.021770  1.161282   \n",
      "2017-01-04  1.000000  1.004046  1.002575  1.105640  1.158849   \n",
      "...              ...       ...       ...       ...       ...   \n",
      "2021-12-14  1.015164  0.998083  0.998271  0.997919  0.990118   \n",
      "2021-12-15  1.043542  1.015829  1.010635  1.010686  1.040426   \n",
      "2021-12-16  0.993072  0.989307  0.996153  0.974744  0.985587   \n",
      "2021-12-17  0.969686  0.993152  0.987858  1.000000  1.000000   \n",
      "2021-12-18  1.000000  1.000000  1.000000  1.007202  1.011743   \n",
      "\n",
      "           ^CMC200 Performance ^GSPC Performance ^DJI Performance  \\\n",
      "Date                                                                \n",
      "2016-12-31                 NaN               NaN              NaN   \n",
      "2017-01-01                 NaN               NaN              NaN   \n",
      "2017-01-02                 NaN               NaN              NaN   \n",
      "2017-01-03                 NaN               NaN              NaN   \n",
      "2017-01-04                 NaN               NaN              NaN   \n",
      "...                        ...               ...              ...   \n",
      "2021-12-14                 NaN               NaN              NaN   \n",
      "2021-12-15                 NaN               NaN              NaN   \n",
      "2021-12-16                 NaN               NaN              NaN   \n",
      "2021-12-17                 NaN               NaN              NaN   \n",
      "2021-12-18                 NaN               NaN              NaN   \n",
      "\n",
      "           BTC-USD Performance ETH-USD Performance ^CMC200 Value ^GSPC Value  \\\n",
      "Date                                                                           \n",
      "2016-12-31                 NaN                 NaN    699.137174         100   \n",
      "2017-01-01                 NaN                 NaN    699.137174       100.0   \n",
      "2017-01-02                 NaN                 NaN    699.137174       100.0   \n",
      "2017-01-03                 NaN                 NaN    699.137174  100.278029   \n",
      "2017-01-04                 NaN                 NaN    699.137174   100.68373   \n",
      "...                        ...                 ...           ...         ...   \n",
      "2021-12-14                 NaN                 NaN    640.917838  120.515227   \n",
      "2021-12-15                 NaN                 NaN    668.824696  122.422853   \n",
      "2021-12-16                 NaN                 NaN    664.190942  121.113829   \n",
      "2021-12-17                 NaN                 NaN    644.056835  120.284454   \n",
      "2021-12-18                 NaN                 NaN    644.056835  120.284454   \n",
      "\n",
      "            ^DJI Value BTC-USD Value ETH-USD Value  \n",
      "Date                                                \n",
      "2016-12-31         100           100           100  \n",
      "2017-01-01       100.0    103.597437    102.383526  \n",
      "2017-01-02       100.0    105.997275    104.985327  \n",
      "2017-01-03  100.044787    108.304811    121.917581  \n",
      "2017-01-04   100.30241    119.746083    141.284064  \n",
      "...                ...           ...           ...  \n",
      "2021-12-14  118.840529   4021.901386   31692.15135  \n",
      "2021-12-15  120.104434   4064.877986  32973.353271  \n",
      "2021-12-16  119.642362   3962.214686  32498.115953  \n",
      "2021-12-17  118.189721   3962.214686  32498.115953  \n",
      "2021-12-18  118.189721   3990.750765  32879.756494  \n",
      "\n",
      "[1814 rows x 15 columns]\n"
     ]
    }
   ],
   "source": [
    "### using value 699.137174 because that is index value at time when CMC200 started\n",
    "df_benchmark['^CMC200 Value'][0] = 699.137174\n",
    "df_benchmark['^GSPC Value'][0] = 100\n",
    "df_benchmark['^DJI Value'][0] = 100\n",
    "df_benchmark['BTC-USD Value'][0] = 100\n",
    "for i in range(1, len(df_benchmark)):\n",
    "    df_benchmark['^CMC200 Value'][i] = df_benchmark['^CMC200 Value'][i - 1] * (df_benchmark['^CMC200'][i])\n",
    "    df_benchmark['^GSPC Value'][i] = df_benchmark['^GSPC Value'][i - 1] * (df_benchmark['^GSPC'][i])\n",
    "    df_benchmark['^DJI Value'][i] = df_benchmark['^DJI Value'][i - 1] * (df_benchmark['^DJI'][i])\n",
    "    df_benchmark['BTC-USD Value'][i] = df_benchmark['BTC-USD Value'][i - 1] * (df_benchmark['BTC-USD'][i])\n",
    "\n",
    "print(df_benchmark)"
   ]
  },
  {
   "cell_type": "code",
   "execution_count": 254,
   "id": "d2852f5a-ea99-4e40-985b-451b821ab56b",
   "metadata": {
    "tags": []
   },
   "outputs": [
    {
     "data": {
      "text/plain": [
       "[<matplotlib.lines.Line2D at 0x2de756987c0>]"
      ]
     },
     "execution_count": 254,
     "metadata": {},
     "output_type": "execute_result"
    },
    {
     "data": {
      "image/png": "[encoded data removed]",
      "text/plain": [
       "<Figure size 1440x432 with 1 Axes>"
      ]
     },
     "metadata": {
      "needs_background": "light"
     },
     "output_type": "display_data"
    }
   ],
   "source": [
    "fig, axs = plt.subplots(figsize = (20,6)) # This is your answer to resize the figure\n",
    "\n",
    "# The below will help you expand on your question and resize individual elements within your figure. Experiement with the below parameters.\n",
    "axs.set_title(\"CUMULATIVE INDEX PERFORMANCE — RETURNS (USD)\", fontsize = 17.5)\n",
    "axs.tick_params(axis = 'x', labelsize = 14)\n",
    "axs.set_xlabel('', size = 15)\n",
    "axs.tick_params(axis = 'y', labelsize =14)\n",
    "axs.set_ylabel('', size = 15)\n",
    "\n",
    "plt.plot(df_final['Actual Index Value'], label = 'Index', c='y')\n",
    "plt.plot(df_benchmark['Adjusted Returns'], label = 'Benchmark', c='b')\n"
   ]
  },
  {
   "cell_type": "code",
   "execution_count": 441,
   "id": "ef796be2-183a-45d8-b297-1a8a4d04c41d",
   "metadata": {},
   "outputs": [
    {
     "ename": "ValueError",
     "evalue": "columns overlap but no suffix specified: Index(['Returns'], dtype='object')",
     "output_type": "error",
     "traceback": [
      "\u001b[1;31m---------------------------------------------------------------------------\u001b[0m",
      "\u001b[1;31mValueError\u001b[0m                                Traceback (most recent call last)",
      "\u001b[1;32m~\\AppData\\Local\\Temp/ipykernel_14780/19331449.py\u001b[0m in \u001b[0;36m<module>\u001b[1;34m\u001b[0m\n\u001b[0;32m      1\u001b[0m \u001b[0mdf_temp2\u001b[0m \u001b[1;33m=\u001b[0m \u001b[0mpd\u001b[0m\u001b[1;33m.\u001b[0m\u001b[0mDataFrame\u001b[0m\u001b[1;33m(\u001b[0m\u001b[0mcolumns\u001b[0m\u001b[1;33m=\u001b[0m\u001b[1;33m[\u001b[0m\u001b[1;34m'Returns'\u001b[0m\u001b[1;33m]\u001b[0m\u001b[1;33m)\u001b[0m\u001b[1;33m\u001b[0m\u001b[1;33m\u001b[0m\u001b[0m\n\u001b[1;32m----> 2\u001b[1;33m \u001b[0mdf_benchmark\u001b[0m \u001b[1;33m=\u001b[0m \u001b[0mdf_benchmark\u001b[0m\u001b[1;33m.\u001b[0m\u001b[0mjoin\u001b[0m\u001b[1;33m(\u001b[0m\u001b[0mdf_temp2\u001b[0m\u001b[1;33m,\u001b[0m \u001b[0mhow\u001b[0m\u001b[1;33m=\u001b[0m\u001b[1;34m\"outer\"\u001b[0m\u001b[1;33m)\u001b[0m\u001b[1;33m\u001b[0m\u001b[1;33m\u001b[0m\u001b[0m\n\u001b[0m\u001b[0;32m      3\u001b[0m \u001b[1;33m\u001b[0m\u001b[0m\n\u001b[0;32m      4\u001b[0m \u001b[0mprint\u001b[0m\u001b[1;33m(\u001b[0m\u001b[0mdf_benchmark\u001b[0m\u001b[1;33m.\u001b[0m\u001b[0mindex\u001b[0m\u001b[1;33m)\u001b[0m\u001b[1;33m\u001b[0m\u001b[1;33m\u001b[0m\u001b[0m\n",
      "\u001b[1;32mc:\\users\\cbure\\appdata\\local\\programs\\python\\python39\\lib\\site-packages\\pandas\\core\\frame.py\u001b[0m in \u001b[0;36mjoin\u001b[1;34m(self, other, on, how, lsuffix, rsuffix, sort)\u001b[0m\n\u001b[0;32m   9093\u001b[0m         \u001b[1;36m5\u001b[0m  \u001b[0mK5\u001b[0m  \u001b[0mA5\u001b[0m  \u001b[0mNaN\u001b[0m\u001b[1;33m\u001b[0m\u001b[1;33m\u001b[0m\u001b[0m\n\u001b[0;32m   9094\u001b[0m         \"\"\"\n\u001b[1;32m-> 9095\u001b[1;33m         return self._join_compat(\n\u001b[0m\u001b[0;32m   9096\u001b[0m             \u001b[0mother\u001b[0m\u001b[1;33m,\u001b[0m \u001b[0mon\u001b[0m\u001b[1;33m=\u001b[0m\u001b[0mon\u001b[0m\u001b[1;33m,\u001b[0m \u001b[0mhow\u001b[0m\u001b[1;33m=\u001b[0m\u001b[0mhow\u001b[0m\u001b[1;33m,\u001b[0m \u001b[0mlsuffix\u001b[0m\u001b[1;33m=\u001b[0m\u001b[0mlsuffix\u001b[0m\u001b[1;33m,\u001b[0m \u001b[0mrsuffix\u001b[0m\u001b[1;33m=\u001b[0m\u001b[0mrsuffix\u001b[0m\u001b[1;33m,\u001b[0m \u001b[0msort\u001b[0m\u001b[1;33m=\u001b[0m\u001b[0msort\u001b[0m\u001b[1;33m\u001b[0m\u001b[1;33m\u001b[0m\u001b[0m\n\u001b[0;32m   9097\u001b[0m         )\n",
      "\u001b[1;32mc:\\users\\cbure\\appdata\\local\\programs\\python\\python39\\lib\\site-packages\\pandas\\core\\frame.py\u001b[0m in \u001b[0;36m_join_compat\u001b[1;34m(self, other, on, how, lsuffix, rsuffix, sort)\u001b[0m\n\u001b[0;32m   9124\u001b[0m                     \u001b[0msort\u001b[0m\u001b[1;33m=\u001b[0m\u001b[0msort\u001b[0m\u001b[1;33m,\u001b[0m\u001b[1;33m\u001b[0m\u001b[1;33m\u001b[0m\u001b[0m\n\u001b[0;32m   9125\u001b[0m                 )\n\u001b[1;32m-> 9126\u001b[1;33m             return merge(\n\u001b[0m\u001b[0;32m   9127\u001b[0m                 \u001b[0mself\u001b[0m\u001b[1;33m,\u001b[0m\u001b[1;33m\u001b[0m\u001b[1;33m\u001b[0m\u001b[0m\n\u001b[0;32m   9128\u001b[0m                 \u001b[0mother\u001b[0m\u001b[1;33m,\u001b[0m\u001b[1;33m\u001b[0m\u001b[1;33m\u001b[0m\u001b[0m\n",
      "\u001b[1;32mc:\\users\\cbure\\appdata\\local\\programs\\python\\python39\\lib\\site-packages\\pandas\\core\\reshape\\merge.py\u001b[0m in \u001b[0;36mmerge\u001b[1;34m(left, right, how, on, left_on, right_on, left_index, right_index, sort, suffixes, copy, indicator, validate)\u001b[0m\n\u001b[0;32m    120\u001b[0m         \u001b[0mvalidate\u001b[0m\u001b[1;33m=\u001b[0m\u001b[0mvalidate\u001b[0m\u001b[1;33m,\u001b[0m\u001b[1;33m\u001b[0m\u001b[1;33m\u001b[0m\u001b[0m\n\u001b[0;32m    121\u001b[0m     )\n\u001b[1;32m--> 122\u001b[1;33m     \u001b[1;32mreturn\u001b[0m \u001b[0mop\u001b[0m\u001b[1;33m.\u001b[0m\u001b[0mget_result\u001b[0m\u001b[1;33m(\u001b[0m\u001b[1;33m)\u001b[0m\u001b[1;33m\u001b[0m\u001b[1;33m\u001b[0m\u001b[0m\n\u001b[0m\u001b[0;32m    123\u001b[0m \u001b[1;33m\u001b[0m\u001b[0m\n\u001b[0;32m    124\u001b[0m \u001b[1;33m\u001b[0m\u001b[0m\n",
      "\u001b[1;32mc:\\users\\cbure\\appdata\\local\\programs\\python\\python39\\lib\\site-packages\\pandas\\core\\reshape\\merge.py\u001b[0m in \u001b[0;36mget_result\u001b[1;34m(self)\u001b[0m\n\u001b[0;32m    716\u001b[0m         \u001b[0mjoin_index\u001b[0m\u001b[1;33m,\u001b[0m \u001b[0mleft_indexer\u001b[0m\u001b[1;33m,\u001b[0m \u001b[0mright_indexer\u001b[0m \u001b[1;33m=\u001b[0m \u001b[0mself\u001b[0m\u001b[1;33m.\u001b[0m\u001b[0m_get_join_info\u001b[0m\u001b[1;33m(\u001b[0m\u001b[1;33m)\u001b[0m\u001b[1;33m\u001b[0m\u001b[1;33m\u001b[0m\u001b[0m\n\u001b[0;32m    717\u001b[0m \u001b[1;33m\u001b[0m\u001b[0m\n\u001b[1;32m--> 718\u001b[1;33m         llabels, rlabels = _items_overlap_with_suffix(\n\u001b[0m\u001b[0;32m    719\u001b[0m             \u001b[0mself\u001b[0m\u001b[1;33m.\u001b[0m\u001b[0mleft\u001b[0m\u001b[1;33m.\u001b[0m\u001b[0m_info_axis\u001b[0m\u001b[1;33m,\u001b[0m \u001b[0mself\u001b[0m\u001b[1;33m.\u001b[0m\u001b[0mright\u001b[0m\u001b[1;33m.\u001b[0m\u001b[0m_info_axis\u001b[0m\u001b[1;33m,\u001b[0m \u001b[0mself\u001b[0m\u001b[1;33m.\u001b[0m\u001b[0msuffixes\u001b[0m\u001b[1;33m\u001b[0m\u001b[1;33m\u001b[0m\u001b[0m\n\u001b[0;32m    720\u001b[0m         )\n",
      "\u001b[1;32mc:\\users\\cbure\\appdata\\local\\programs\\python\\python39\\lib\\site-packages\\pandas\\core\\reshape\\merge.py\u001b[0m in \u001b[0;36m_items_overlap_with_suffix\u001b[1;34m(left, right, suffixes)\u001b[0m\n\u001b[0;32m   2302\u001b[0m \u001b[1;33m\u001b[0m\u001b[0m\n\u001b[0;32m   2303\u001b[0m     \u001b[1;32mif\u001b[0m \u001b[1;32mnot\u001b[0m \u001b[0mlsuffix\u001b[0m \u001b[1;32mand\u001b[0m \u001b[1;32mnot\u001b[0m \u001b[0mrsuffix\u001b[0m\u001b[1;33m:\u001b[0m\u001b[1;33m\u001b[0m\u001b[1;33m\u001b[0m\u001b[0m\n\u001b[1;32m-> 2304\u001b[1;33m         \u001b[1;32mraise\u001b[0m \u001b[0mValueError\u001b[0m\u001b[1;33m(\u001b[0m\u001b[1;34mf\"columns overlap but no suffix specified: {to_rename}\"\u001b[0m\u001b[1;33m)\u001b[0m\u001b[1;33m\u001b[0m\u001b[1;33m\u001b[0m\u001b[0m\n\u001b[0m\u001b[0;32m   2305\u001b[0m \u001b[1;33m\u001b[0m\u001b[0m\n\u001b[0;32m   2306\u001b[0m     \u001b[1;32mdef\u001b[0m \u001b[0mrenamer\u001b[0m\u001b[1;33m(\u001b[0m\u001b[0mx\u001b[0m\u001b[1;33m,\u001b[0m \u001b[0msuffix\u001b[0m\u001b[1;33m)\u001b[0m\u001b[1;33m:\u001b[0m\u001b[1;33m\u001b[0m\u001b[1;33m\u001b[0m\u001b[0m\n",
      "\u001b[1;31mValueError\u001b[0m: columns overlap but no suffix specified: Index(['Returns'], dtype='object')"
     ]
    }
   ],
   "source": [
    "df_temp2 = pd.DataFrame(columns=['Returns'])\n",
    "df_benchmark = df_benchmark.join(df_temp2, how=\"outer\")"
   ]
  },
  {
   "cell_type": "code",
   "execution_count": 445,
   "id": "0a621860",
   "metadata": {},
   "outputs": [],
   "source": [
    "df_temp3 = pd.DataFrame(columns=['Date'])\n",
    "df_final = df_final.join(df_temp3, how=\"outer\")"
   ]
  },
  {
   "cell_type": "code",
   "execution_count": 447,
   "id": "a4ecf0e7",
   "metadata": {},
   "outputs": [],
   "source": [
    "df_final['Date'] = df_final.index\n"
   ]
  },
  {
   "cell_type": "code",
   "execution_count": 448,
   "id": "e3dd5fbb",
   "metadata": {},
   "outputs": [
    {
     "name": "stdout",
     "output_type": "stream",
     "text": [
      "           Tier1 Value Tier2 Value Tier3 Value   BTC-USD Index Value  \\\n",
      "Date                                                                   \n",
      "2016-12-31         0.0         0.0    0.002139  0.003244    0.002139   \n",
      "2017-01-01         0.0         0.0     0.03545  0.035974     0.03545   \n",
      "2017-01-02         0.0         0.0    0.023262  0.023165    0.023262   \n",
      "2017-01-03         0.0         0.0    0.027793  0.021770    0.027793   \n",
      "2017-01-04         0.0         0.0    0.107937  0.105640    0.107937   \n",
      "...                ...         ...         ...       ...         ...   \n",
      "2021-12-01    0.006904    0.031074    0.001744  0.005656    0.016056   \n",
      "2021-12-02    0.007289   -0.003947   -0.013914 -0.012925    0.000675   \n",
      "2021-12-03    0.008488   -0.058782   -0.055408 -0.051512   -0.024809   \n",
      "2021-12-04   -0.134293   -0.069957   -0.067373 -0.084261   -0.101867   \n",
      "2021-12-05   -0.079408   -0.063308   -0.001555 -0.003931   -0.065183   \n",
      "\n",
      "           Real Returns Actual Index Value       Date  \n",
      "Date                                                   \n",
      "2016-12-31          NaN                100 2016-12-31  \n",
      "2017-01-01      1.03545         103.545025 2017-01-01  \n",
      "2017-01-02     1.023262         105.953696 2017-01-02  \n",
      "2017-01-03     1.027793         108.898511 2017-01-03  \n",
      "2017-01-04     1.107937         120.652684 2017-01-04  \n",
      "...                 ...                ...        ...  \n",
      "2021-12-01     1.016056       12897.739318 2021-12-01  \n",
      "2021-12-02     1.000675       12906.441054 2021-12-02  \n",
      "2021-12-03     0.975191       12586.240579 2021-12-03  \n",
      "2021-12-04     0.898133       11304.121545 2021-12-04  \n",
      "2021-12-05     0.934817       10567.289077 2021-12-05  \n",
      "\n",
      "[1797 rows x 8 columns]\n"
     ]
    }
   ],
   "source": [
    "print(df_final)"
   ]
  },
  {
   "cell_type": "code",
   "execution_count": null,
   "id": "91df6481",
   "metadata": {},
   "outputs": [],
   "source": []
  }
 ],
 "metadata": {
  "kernelspec": {
   "display_name": "Python 3",
   "language": "python",
   "name": "python3"
  },
  "language_info": {
   "codemirror_mode": {
    "name": "ipython",
    "version": 3
   },
   "file_extension": ".py",
   "mimetype": "text/x-python",
   "name": "python",
   "nbconvert_exporter": "python",
   "pygments_lexer": "ipython3",
   "version": "3.8.8"
  }
 },
 "nbformat": 4,
 "nbformat_minor": 5
}
